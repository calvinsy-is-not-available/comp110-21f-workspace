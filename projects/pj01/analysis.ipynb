{
 "cells": [
  {
   "cell_type": "code",
   "execution_count": 2,
   "metadata": {},
   "outputs": [],
   "source": [
    "%reload_ext autoreload\n",
    "%autoreload 2"
   ]
  },
  {
   "cell_type": "markdown",
   "metadata": {},
   "source": [
    "# MY HYPOTHESIS:\n",
    "\n",
    "\n",
    "## Most of the students who are taking comp 110 have no previous experience in coding."
   ]
  },
  {
   "cell_type": "markdown",
   "metadata": {},
   "source": [
    "\n",
    "\n",
    "### First things first: I need to read the CSV and convert it into a column-oriented table.\n"
   ]
  },
  {
   "cell_type": "code",
   "execution_count": 4,
   "metadata": {},
   "outputs": [],
   "source": [
    "from data_utils import columnar, read_csv_rows\n",
    "\n",
    "data_rows: dict[str, list[str]] = read_csv_rows('../../data/survey.csv')\n",
    "columns: dict[str, list[str]] = columnar(data_rows)"
   ]
  },
  {
   "cell_type": "markdown",
   "metadata": {},
   "source": [
    "### Lets see if we can view this as a data table:\n"
   ]
  },
  {
   "cell_type": "code",
   "execution_count": 8,
   "metadata": {},
   "outputs": [
    {
     "data": {
      "text/html": [
       "<table>\n",
       "<thead>\n",
       "<tr><th>prior_exp                   </th></tr>\n",
       "</thead>\n",
       "<tbody>\n",
       "<tr><td>None to less than one month!</td></tr>\n",
       "<tr><td>None to less than one month!</td></tr>\n",
       "<tr><td>None to less than one month!</td></tr>\n",
       "<tr><td>None to less than one month!</td></tr>\n",
       "<tr><td>None to less than one month!</td></tr>\n",
       "<tr><td>Over 2 years                </td></tr>\n",
       "<tr><td>None to less than one month!</td></tr>\n",
       "<tr><td>None to less than one month!</td></tr>\n",
       "<tr><td>None to less than one month!</td></tr>\n",
       "<tr><td>None to less than one month!</td></tr>\n",
       "</tbody>\n",
       "</table>"
      ],
      "text/plain": [
       "'<table>\\n<thead>\\n<tr><th>prior_exp                   </th></tr>\\n</thead>\\n<tbody>\\n<tr><td>None to less than one month!</td></tr>\\n<tr><td>None to less than one month!</td></tr>\\n<tr><td>None to less than one month!</td></tr>\\n<tr><td>None to less than one month!</td></tr>\\n<tr><td>None to less than one month!</td></tr>\\n<tr><td>Over 2 years                </td></tr>\\n<tr><td>None to less than one month!</td></tr>\\n<tr><td>None to less than one month!</td></tr>\\n<tr><td>None to less than one month!</td></tr>\\n<tr><td>None to less than one month!</td></tr>\\n</tbody>\\n</table>'"
      ]
     },
     "execution_count": 8,
     "metadata": {},
     "output_type": "execute_result"
    }
   ],
   "source": [
    "from data_utils import column_values, columnar, head, select\n",
    "\n",
    "subset: dict[str, list[str]] = select(columns, [\"prior_exp\"])\n",
    "sunset: dict[str, list[str]] = head(subset, 10)\n",
    "\n",
    "from tabulate import tabulate\n",
    "\n",
    "tabulate(sunset, sunset.keys(), \"html\")\n",
    "\n"
   ]
  },
  {
   "cell_type": "markdown",
   "metadata": {},
   "source": [
    "### So far it seems that our hypothesis is confirmed!"
   ]
  },
  {
   "cell_type": "markdown",
   "metadata": {},
   "source": [
    "## To confirm our hypothesis, let's see if the count associated with our all of our data is indicative of the trend we anaylzed in the previous data table."
   ]
  },
  {
   "cell_type": "code",
   "execution_count": 15,
   "metadata": {},
   "outputs": [
    {
     "name": "stdout",
     "output_type": "stream",
     "text": [
      "exp_counts: {'None to less than one month!': 403, 'Over 2 years': 11, '2-6 months': 104, '7-12 months': 37, '1-2 years': 18}\n"
     ]
    }
   ],
   "source": [
    "from data_utils import count\n",
    "\n",
    "counts: dict[str, int] = count(subset[\"prior_exp\"])\n",
    "print(f\"exp_counts: {counts}\")"
   ]
  },
  {
   "cell_type": "markdown",
   "metadata": {},
   "source": []
  }
 ],
 "metadata": {
  "interpreter": {
   "hash": "6af0830df5576765fe55e641ad0936112e19a8a9abb54b73ef03d4d7c9ba3ea9"
  },
  "kernelspec": {
   "display_name": "Python 3.10.0 64-bit",
   "name": "python3"
  },
  "language_info": {
   "codemirror_mode": {
    "name": "ipython",
    "version": 3
   },
   "file_extension": ".py",
   "mimetype": "text/x-python",
   "name": "python",
   "nbconvert_exporter": "python",
   "pygments_lexer": "ipython3",
   "version": "3.10.0"
  },
  "orig_nbformat": 4
 },
 "nbformat": 4,
 "nbformat_minor": 2
}
