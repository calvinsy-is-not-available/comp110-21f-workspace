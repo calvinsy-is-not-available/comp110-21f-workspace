{
 "cells": [
  {
   "cell_type": "code",
   "execution_count": 38,
   "metadata": {},
   "outputs": [],
   "source": [
    "%reload_ext autoreload\n",
    "%autoreload 2"
   ]
  },
  {
   "cell_type": "markdown",
   "metadata": {},
   "source": [
    "# MY HYPOTHESIS:\n",
    "\n",
    "\n",
    "## Most of the students who are taking comp 110 have no previous experience in coding."
   ]
  },
  {
   "cell_type": "markdown",
   "metadata": {},
   "source": [
    "\n",
    "\n",
    "### First things first: I need to read the CSV and convert it into a column-oriented table.\n"
   ]
  },
  {
   "cell_type": "code",
   "execution_count": 39,
   "metadata": {},
   "outputs": [],
   "source": [
    "from data_utils import columnar, read_csv_rows\n",
    "\n",
    "data_rows: dict[str, list[str]] = read_csv_rows('../../data/survey.csv')\n",
    "columns: dict[str, list[str]] = columnar(data_rows)"
   ]
  },
  {
   "cell_type": "markdown",
   "metadata": {},
   "source": [
    "### Lets see if we can view this as a data table:\n"
   ]
  },
  {
   "cell_type": "code",
   "execution_count": 40,
   "metadata": {},
   "outputs": [
    {
     "data": {
      "text/html": [
       "<table>\n",
       "<thead>\n",
       "<tr><th>prior_exp                   </th></tr>\n",
       "</thead>\n",
       "<tbody>\n",
       "<tr><td>None to less than one month!</td></tr>\n",
       "<tr><td>None to less than one month!</td></tr>\n",
       "<tr><td>None to less than one month!</td></tr>\n",
       "<tr><td>None to less than one month!</td></tr>\n",
       "<tr><td>None to less than one month!</td></tr>\n",
       "<tr><td>Over 2 years                </td></tr>\n",
       "<tr><td>None to less than one month!</td></tr>\n",
       "<tr><td>None to less than one month!</td></tr>\n",
       "<tr><td>None to less than one month!</td></tr>\n",
       "<tr><td>None to less than one month!</td></tr>\n",
       "</tbody>\n",
       "</table>"
      ],
      "text/plain": [
       "'<table>\\n<thead>\\n<tr><th>prior_exp                   </th></tr>\\n</thead>\\n<tbody>\\n<tr><td>None to less than one month!</td></tr>\\n<tr><td>None to less than one month!</td></tr>\\n<tr><td>None to less than one month!</td></tr>\\n<tr><td>None to less than one month!</td></tr>\\n<tr><td>None to less than one month!</td></tr>\\n<tr><td>Over 2 years                </td></tr>\\n<tr><td>None to less than one month!</td></tr>\\n<tr><td>None to less than one month!</td></tr>\\n<tr><td>None to less than one month!</td></tr>\\n<tr><td>None to less than one month!</td></tr>\\n</tbody>\\n</table>'"
      ]
     },
     "execution_count": 40,
     "metadata": {},
     "output_type": "execute_result"
    }
   ],
   "source": [
    "from data_utils import column_values, columnar, head, select\n",
    "\n",
    "subset: dict[str, list[str]] = select(columns, [\"prior_exp\"])\n",
    "sunset: dict[str, list[str]] = head(subset, 10)\n",
    "\n",
    "from tabulate import tabulate\n",
    "\n",
    "tabulate(sunset, sunset.keys(), \"html\")\n",
    "\n"
   ]
  },
  {
   "cell_type": "markdown",
   "metadata": {},
   "source": [
    "### So far it seems that our hypothesis is confirmed!"
   ]
  },
  {
   "cell_type": "markdown",
   "metadata": {},
   "source": [
    "In the above table, it appears that approximately 9 out of 10 students do not have any prior programming experience."
   ]
  },
  {
   "cell_type": "markdown",
   "metadata": {},
   "source": [
    "## To confirm our hypothesis, let's see if the count associated with our all of our data is indicative of the trend we anaylzed in the previous data table."
   ]
  },
  {
   "cell_type": "code",
   "execution_count": 41,
   "metadata": {},
   "outputs": [
    {
     "name": "stdout",
     "output_type": "stream",
     "text": [
      "exp_counts: {'None to less than one month!': 403, 'Over 2 years': 11, '2-6 months': 104, '7-12 months': 37, '1-2 years': 18}\n"
     ]
    }
   ],
   "source": [
    "from data_utils import count\n",
    "\n",
    "counts: dict[str, int] = count(subset[\"prior_exp\"])\n",
    "print(f\"exp_counts: {counts}\")"
   ]
  },
  {
   "cell_type": "markdown",
   "metadata": {},
   "source": [
    "## Let's view the ratio of students who do not have any previous experience in COMP SCI, to those who do:"
   ]
  },
  {
   "cell_type": "markdown",
   "metadata": {},
   "source": [
    "## To do this, I will implement a new function similar to the count function. The function will be named addem_up, and instead of counting the occurences of each individual list, it will count all the responses from a particular column. This will make it easier to create a ratio using the two functions (count & addem_up) in tandem-- rather than making counts increasing more complicated. "
   ]
  },
  {
   "cell_type": "code",
   "execution_count": 42,
   "metadata": {},
   "outputs": [
    {
     "name": "stdout",
     "output_type": "stream",
     "text": [
      "403 / 573\n",
      "\n",
      "\n",
      "==\n",
      "\n",
      "\n",
      "0.7033158813263525\n"
     ]
    }
   ],
   "source": [
    "from data_utils import addem_up\n",
    "\n",
    "x = counts[\"None to less than one month!\"]\n",
    "y = addem_up(counts)\n",
    "\n",
    "print(f\"{x} / {y}\")\n",
    "print('''\n",
    "\n",
    "==\n",
    "\n",
    "''')\n",
    "print(x / y)"
   ]
  },
  {
   "cell_type": "markdown",
   "metadata": {},
   "source": [
    " ### If I've interpreted the data accurately, this means that 7 out of 10 students in COMP 110 do not have any prior programming experience!! Which means that COMP 110 must be a stellar intro course to COMP SCI. [<-- Hypothesis side_quest]"
   ]
  },
  {
   "cell_type": "markdown",
   "metadata": {},
   "source": [
    "### To further analyze this claim, I will plot all of the data associated with column to determine if the trend follows the previous ratios determined."
   ]
  },
  {
   "cell_type": "code",
   "execution_count": 43,
   "metadata": {},
   "outputs": [
    {
     "data": {
      "image/png": "[encoded data removed]",
      "text/plain": [
       "<Figure size 3744x504 with 1 Axes>"
      ]
     },
     "metadata": {
      "needs_background": "light"
     },
     "output_type": "display_data"
    }
   ],
   "source": [
    "from matplotlib import pyplot as plt\n",
    "\n",
    "names = counts.keys()\n",
    "values = counts.values()\n",
    "\n",
    "plt.figure(figsize=(52, 7))\n",
    "plt.subplot(131)\n",
    "plt.bar(names, values)\n",
    "plt.title(\"Do COMP 110 Students have prior programming experience?\")\n",
    "plt.xlabel('Students')\n",
    "plt.ylabel('Number of Students')\n",
    "plt.show()\n"
   ]
  },
  {
   "cell_type": "markdown",
   "metadata": {},
   "source": [
    " # Great! Now to top this finding off, I think it would best if I cross-matched this data off with data from the \"would_recommend\" column. Let's see if we can create a data table that both displays prior experience and willingness to recommend COMP 110."
   ]
  },
  {
   "cell_type": "markdown",
   "metadata": {},
   "source": [
    "## First, I'll view a portion of recommendations:"
   ]
  },
  {
   "cell_type": "code",
   "execution_count": 44,
   "metadata": {},
   "outputs": [
    {
     "data": {
      "text/html": [
       "<table>\n",
       "<thead>\n",
       "<tr><th style=\"text-align: right;\">  would_recommend</th></tr>\n",
       "</thead>\n",
       "<tbody>\n",
       "<tr><td style=\"text-align: right;\">                7</td></tr>\n",
       "<tr><td style=\"text-align: right;\">                7</td></tr>\n",
       "<tr><td style=\"text-align: right;\">                7</td></tr>\n",
       "<tr><td style=\"text-align: right;\">                7</td></tr>\n",
       "<tr><td style=\"text-align: right;\">                7</td></tr>\n",
       "<tr><td style=\"text-align: right;\">                4</td></tr>\n",
       "<tr><td style=\"text-align: right;\">                6</td></tr>\n",
       "<tr><td style=\"text-align: right;\">                4</td></tr>\n",
       "<tr><td style=\"text-align: right;\">                6</td></tr>\n",
       "<tr><td style=\"text-align: right;\">                5</td></tr>\n",
       "<tr><td style=\"text-align: right;\">                4</td></tr>\n",
       "<tr><td style=\"text-align: right;\">                4</td></tr>\n",
       "<tr><td style=\"text-align: right;\">                5</td></tr>\n",
       "<tr><td style=\"text-align: right;\">                6</td></tr>\n",
       "<tr><td style=\"text-align: right;\">                6</td></tr>\n",
       "<tr><td style=\"text-align: right;\">                6</td></tr>\n",
       "<tr><td style=\"text-align: right;\">                7</td></tr>\n",
       "<tr><td style=\"text-align: right;\">                5</td></tr>\n",
       "<tr><td style=\"text-align: right;\">                1</td></tr>\n",
       "<tr><td style=\"text-align: right;\">                3</td></tr>\n",
       "</tbody>\n",
       "</table>"
      ],
      "text/plain": [
       "'<table>\\n<thead>\\n<tr><th style=\"text-align: right;\">  would_recommend</th></tr>\\n</thead>\\n<tbody>\\n<tr><td style=\"text-align: right;\">                7</td></tr>\\n<tr><td style=\"text-align: right;\">                7</td></tr>\\n<tr><td style=\"text-align: right;\">                7</td></tr>\\n<tr><td style=\"text-align: right;\">                7</td></tr>\\n<tr><td style=\"text-align: right;\">                7</td></tr>\\n<tr><td style=\"text-align: right;\">                4</td></tr>\\n<tr><td style=\"text-align: right;\">                6</td></tr>\\n<tr><td style=\"text-align: right;\">                4</td></tr>\\n<tr><td style=\"text-align: right;\">                6</td></tr>\\n<tr><td style=\"text-align: right;\">                5</td></tr>\\n<tr><td style=\"text-align: right;\">                4</td></tr>\\n<tr><td style=\"text-align: right;\">                4</td></tr>\\n<tr><td style=\"text-align: right;\">                5</td></tr>\\n<tr><td style=\"text-align: right;\">                6</td></tr>\\n<tr><td style=\"text-align: right;\">                6</td></tr>\\n<tr><td style=\"text-align: right;\">                6</td></tr>\\n<tr><td style=\"text-align: right;\">                7</td></tr>\\n<tr><td style=\"text-align: right;\">                5</td></tr>\\n<tr><td style=\"text-align: right;\">                1</td></tr>\\n<tr><td style=\"text-align: right;\">                3</td></tr>\\n</tbody>\\n</table>'"
      ]
     },
     "execution_count": 44,
     "metadata": {},
     "output_type": "execute_result"
    }
   ],
   "source": [
    "from tabulate import tabulate\n",
    "\n",
    "overdrive: dict[str, list[str]] = select(columns, [\"would_recommend\"])\n",
    "thunderdrive: dict[str, list[str]] = head(overdrive, 20)\n",
    "\n",
    "tabulate(thunderdrive, thunderdrive.keys(), \"html\")"
   ]
  },
  {
   "cell_type": "markdown",
   "metadata": {},
   "source": [
    "## Now that I've done that, let's see if I can produce a count of each individual input of a recommendation."
   ]
  },
  {
   "cell_type": "code",
   "execution_count": 45,
   "metadata": {},
   "outputs": [
    {
     "name": "stdout",
     "output_type": "stream",
     "text": [
      "exp_counts: {'7': 197, '4': 88, '6': 134, '5': 92, '1': 12, '3': 34, '2': 16}\n"
     ]
    }
   ],
   "source": [
    "from data_utils import count\n",
    "\n",
    "\n",
    "elms: dict[str, int] = count(overdrive[\"would_recommend\"])\n",
    "print(f\"exp_counts: {elms}\")"
   ]
  },
  {
   "cell_type": "markdown",
   "metadata": {},
   "source": [
    "## That's a lot of data! Let's see if I can't combine both the data table for prior experience and COMP 110's students' willingness to recommend the class."
   ]
  },
  {
   "cell_type": "code",
   "execution_count": 46,
   "metadata": {},
   "outputs": [
    {
     "data": {
      "text/html": [
       "<table>\n",
       "<thead>\n",
       "<tr><th>prior_exp                   </th><th style=\"text-align: right;\">  would_recommend</th></tr>\n",
       "</thead>\n",
       "<tbody>\n",
       "<tr><td>None to less than one month!</td><td style=\"text-align: right;\">                7</td></tr>\n",
       "<tr><td>None to less than one month!</td><td style=\"text-align: right;\">                7</td></tr>\n",
       "<tr><td>None to less than one month!</td><td style=\"text-align: right;\">                7</td></tr>\n",
       "<tr><td>None to less than one month!</td><td style=\"text-align: right;\">                7</td></tr>\n",
       "<tr><td>None to less than one month!</td><td style=\"text-align: right;\">                7</td></tr>\n",
       "<tr><td>Over 2 years                </td><td style=\"text-align: right;\">                4</td></tr>\n",
       "<tr><td>None to less than one month!</td><td style=\"text-align: right;\">                6</td></tr>\n",
       "<tr><td>None to less than one month!</td><td style=\"text-align: right;\">                4</td></tr>\n",
       "<tr><td>None to less than one month!</td><td style=\"text-align: right;\">                6</td></tr>\n",
       "<tr><td>None to less than one month!</td><td style=\"text-align: right;\">                5</td></tr>\n",
       "<tr><td>                            </td><td style=\"text-align: right;\">                4</td></tr>\n",
       "<tr><td>                            </td><td style=\"text-align: right;\">                4</td></tr>\n",
       "<tr><td>                            </td><td style=\"text-align: right;\">                5</td></tr>\n",
       "<tr><td>                            </td><td style=\"text-align: right;\">                6</td></tr>\n",
       "<tr><td>                            </td><td style=\"text-align: right;\">                6</td></tr>\n",
       "<tr><td>                            </td><td style=\"text-align: right;\">                6</td></tr>\n",
       "<tr><td>                            </td><td style=\"text-align: right;\">                7</td></tr>\n",
       "<tr><td>                            </td><td style=\"text-align: right;\">                5</td></tr>\n",
       "<tr><td>                            </td><td style=\"text-align: right;\">                1</td></tr>\n",
       "<tr><td>                            </td><td style=\"text-align: right;\">                3</td></tr>\n",
       "</tbody>\n",
       "</table>"
      ],
      "text/plain": [
       "'<table>\\n<thead>\\n<tr><th>prior_exp                   </th><th style=\"text-align: right;\">  would_recommend</th></tr>\\n</thead>\\n<tbody>\\n<tr><td>None to less than one month!</td><td style=\"text-align: right;\">                7</td></tr>\\n<tr><td>None to less than one month!</td><td style=\"text-align: right;\">                7</td></tr>\\n<tr><td>None to less than one month!</td><td style=\"text-align: right;\">                7</td></tr>\\n<tr><td>None to less than one month!</td><td style=\"text-align: right;\">                7</td></tr>\\n<tr><td>None to less than one month!</td><td style=\"text-align: right;\">                7</td></tr>\\n<tr><td>Over 2 years                </td><td style=\"text-align: right;\">                4</td></tr>\\n<tr><td>None to less than one month!</td><td style=\"text-align: right;\">                6</td></tr>\\n<tr><td>None to less than one month!</td><td style=\"text-align: right;\">                4</td></tr>\\n<tr><td>None to less than one month!</td><td style=\"text-align: right;\">                6</td></tr>\\n<tr><td>None to less than one month!</td><td style=\"text-align: right;\">                5</td></tr>\\n<tr><td>                            </td><td style=\"text-align: right;\">                4</td></tr>\\n<tr><td>                            </td><td style=\"text-align: right;\">                4</td></tr>\\n<tr><td>                            </td><td style=\"text-align: right;\">                5</td></tr>\\n<tr><td>                            </td><td style=\"text-align: right;\">                6</td></tr>\\n<tr><td>                            </td><td style=\"text-align: right;\">                6</td></tr>\\n<tr><td>                            </td><td style=\"text-align: right;\">                6</td></tr>\\n<tr><td>                            </td><td style=\"text-align: right;\">                7</td></tr>\\n<tr><td>                            </td><td style=\"text-align: right;\">                5</td></tr>\\n<tr><td>                            </td><td style=\"text-align: right;\">                1</td></tr>\\n<tr><td>                            </td><td style=\"text-align: right;\">                3</td></tr>\\n</tbody>\\n</table>'"
      ]
     },
     "execution_count": 46,
     "metadata": {},
     "output_type": "execute_result"
    }
   ],
   "source": [
    "from tabulate import tabulate\n",
    "from data_utils import concat\n",
    "\n",
    "data_combined: dict[str, list[str]] = concat(sunset, thunderdrive)\n",
    "tabulate(data_combined, data_combined, \"html\")"
   ]
  },
  {
   "cell_type": "markdown",
   "metadata": {},
   "source": [
    "The above data table worked, but to make it cleaner, I will create an equalizer (eq) function that will make the length of the values of each column equivalent. However, that will come later for now."
   ]
  },
  {
   "cell_type": "markdown",
   "metadata": {},
   "source": [
    "## Now, let's see if we can sort this data table to only get the response 'None to less than one month!'."
   ]
  },
  {
   "cell_type": "markdown",
   "metadata": {},
   "source": [
    "To do so, I'll use my 'git_listy' function to return a dict with the responses (values) from a dict[str, list[str]] that's desired."
   ]
  },
  {
   "cell_type": "code",
   "execution_count": 47,
   "metadata": {},
   "outputs": [
    {
     "data": {
      "text/html": [
       "<table>\n",
       "<thead>\n",
       "<tr><th>prior_exp                   </th></tr>\n",
       "</thead>\n",
       "<tbody>\n",
       "<tr><td>None to less than one month!</td></tr>\n",
       "<tr><td>None to less than one month!</td></tr>\n",
       "<tr><td>None to less than one month!</td></tr>\n",
       "<tr><td>None to less than one month!</td></tr>\n",
       "<tr><td>None to less than one month!</td></tr>\n",
       "<tr><td>None to less than one month!</td></tr>\n",
       "<tr><td>None to less than one month!</td></tr>\n",
       "<tr><td>None to less than one month!</td></tr>\n",
       "<tr><td>None to less than one month!</td></tr>\n",
       "</tbody>\n",
       "</table>"
      ],
      "text/plain": [
       "'<table>\\n<thead>\\n<tr><th>prior_exp                   </th></tr>\\n</thead>\\n<tbody>\\n<tr><td>None to less than one month!</td></tr>\\n<tr><td>None to less than one month!</td></tr>\\n<tr><td>None to less than one month!</td></tr>\\n<tr><td>None to less than one month!</td></tr>\\n<tr><td>None to less than one month!</td></tr>\\n<tr><td>None to less than one month!</td></tr>\\n<tr><td>None to less than one month!</td></tr>\\n<tr><td>None to less than one month!</td></tr>\\n<tr><td>None to less than one month!</td></tr>\\n</tbody>\\n</table>'"
      ]
     },
     "execution_count": 47,
     "metadata": {},
     "output_type": "execute_result"
    }
   ],
   "source": [
    "from data_utils import git_listy\n",
    "\n",
    "wanted_prior_exp = git_listy(sunset, \"None to less than one month!\")\n",
    "tabulate(wanted_prior_exp, wanted_prior_exp.keys(), \"html\")\n"
   ]
  },
  {
   "cell_type": "markdown",
   "metadata": {},
   "source": [
    "Now let's see how our desired prior experience responses stack up against recommendations. This time, I'll use my eq function to make the vlaues of both columns equivalent."
   ]
  },
  {
   "cell_type": "code",
   "execution_count": 48,
   "metadata": {},
   "outputs": [
    {
     "data": {
      "text/html": [
       "<table>\n",
       "<thead>\n",
       "<tr><th>prior_exp                   </th><th style=\"text-align: right;\">  would_recommend</th></tr>\n",
       "</thead>\n",
       "<tbody>\n",
       "<tr><td>None to less than one month!</td><td style=\"text-align: right;\">                7</td></tr>\n",
       "<tr><td>None to less than one month!</td><td style=\"text-align: right;\">                7</td></tr>\n",
       "<tr><td>None to less than one month!</td><td style=\"text-align: right;\">                7</td></tr>\n",
       "<tr><td>None to less than one month!</td><td style=\"text-align: right;\">                7</td></tr>\n",
       "<tr><td>None to less than one month!</td><td style=\"text-align: right;\">                7</td></tr>\n",
       "<tr><td>None to less than one month!</td><td style=\"text-align: right;\">                4</td></tr>\n",
       "<tr><td>None to less than one month!</td><td style=\"text-align: right;\">                6</td></tr>\n",
       "<tr><td>None to less than one month!</td><td style=\"text-align: right;\">                4</td></tr>\n",
       "<tr><td>None to less than one month!</td><td style=\"text-align: right;\">                6</td></tr>\n",
       "</tbody>\n",
       "</table>"
      ],
      "text/plain": [
       "'<table>\\n<thead>\\n<tr><th>prior_exp                   </th><th style=\"text-align: right;\">  would_recommend</th></tr>\\n</thead>\\n<tbody>\\n<tr><td>None to less than one month!</td><td style=\"text-align: right;\">                7</td></tr>\\n<tr><td>None to less than one month!</td><td style=\"text-align: right;\">                7</td></tr>\\n<tr><td>None to less than one month!</td><td style=\"text-align: right;\">                7</td></tr>\\n<tr><td>None to less than one month!</td><td style=\"text-align: right;\">                7</td></tr>\\n<tr><td>None to less than one month!</td><td style=\"text-align: right;\">                7</td></tr>\\n<tr><td>None to less than one month!</td><td style=\"text-align: right;\">                4</td></tr>\\n<tr><td>None to less than one month!</td><td style=\"text-align: right;\">                6</td></tr>\\n<tr><td>None to less than one month!</td><td style=\"text-align: right;\">                4</td></tr>\\n<tr><td>None to less than one month!</td><td style=\"text-align: right;\">                6</td></tr>\\n</tbody>\\n</table>'"
      ]
     },
     "execution_count": 48,
     "metadata": {},
     "output_type": "execute_result"
    }
   ],
   "source": [
    "from data_utils import eq\n",
    "\n",
    "needed_data = concat(wanted_prior_exp, thunderdrive)\n",
    "equivalent_dicts = eq(needed_data)\n",
    "tabulate(equivalent_dicts, equivalent_dicts.keys(), \"html\")"
   ]
  },
  {
   "cell_type": "code",
   "execution_count": 49,
   "metadata": {},
   "outputs": [
    {
     "name": "stdout",
     "output_type": "stream",
     "text": [
      "{'would_recommend': ['7', '7', '7', '7', '7', '4', '6', '4', '6', '5', '4', '4', '5', '6', '6', '6', '7', '5', '1', '3', '7', '7', '7', '7', '5', '5', '6', '4', '5', '6', '5', '5', '7', '5', '2', '3', '4', '7', '4', '2', '5', '3', '4', '7', '7', '5', '7', '6', '6', '5', '2', '6', '2', '3', '5', '7', '5', '7', '5', '5', '6', '6', '7', '6', '4', '5', '7', '7', '5', '5', '6', '5', '4', '4', '7', '7', '7', '6', '6', '7', '6', '4', '7', '4', '7', '4', '5', '3', '6', '6', '5', '3', '3', '6', '7', '2', '7', '7', '6', '3', '5', '7', '7', '3', '7', '3', '6', '7', '4', '7', '7', '7', '5', '5', '7', '5', '6', '5', '7', '5', '7', '5', '3', '7', '7', '4', '1', '5', '4', '4', '4', '7', '7', '7', '7', '7', '6', '6', '7', '7', '7', '6', '5', '7', '7', '4', '7', '7', '5', '7', '6', '5', '6', '7', '6', '7', '7', '7', '7', '7', '7', '6', '7', '7', '7', '7', '6', '6', '7', '7', '5', '7', '7', '5', '6', '6', '6', '6', '7', '7', '7', '7', '5', '5', '6', '7', '6', '6', '7', '7', '5', '7', '7', '7', '2', '7', '7', '6', '5', '7', '7', '7', '7', '7', '6', '5', '6', '6', '7', '7', '6', '1', '7', '7', '7', '5', '6', '7', '7', '3', '7', '7', '6', '3', '6', '4', '6', '6', '7', '6', '4', '6', '5', '7', '7', '7', '7', '6', '6', '6', '6', '6', '6', '7', '6', '7', '7', '7', '5', '7', '7', '6', '3', '7', '4', '7', '6', '5', '7', '6', '7', '7', '7', '7', '5', '4', '6', '7', '4', '6', '5', '7', '4', '6', '7', '7', '6', '1', '7', '6', '5', '5', '6', '6', '4', '7', '6', '1', '5', '6', '4', '2', '4', '7', '2', '7', '5', '6', '4', '7', '5', '5', '4', '6', '4', '4', '4', '5', '6', '7', '4', '6', '3', '5', '5', '6', '3', '7', '5', '7', '7', '6', '6', '1', '6', '7', '6', '7', '7', '7', '6', '7', '7', '3', '6', '5', '5', '4', '4', '4', '6', '4', '4', '6', '4', '4', '3', '7', '3', '4', '6', '7', '6', '4', '6', '6', '4', '7', '6', '4', '6', '6', '3', '4', '6', '6', '6', '4', '7', '7', '7', '7', '6', '6', '7', '7', '6', '7', '6', '5', '5', '7', '6', '5', '7', '7', '7', '1', '7', '7', '7', '7', '6', '4', '7', '7', '4', '4', '5', '4', '3', '4', '5', '5', '4', '6', '4', '6', '6', '6', '3', '7', '7', '7', '4', '6', '4', '4', '4', '3', '6', '7', '6', '5', '5', '6', '5', '6', '6', '4', '4', '3', '5', '7', '7', '7', '7', '4', '4', '6', '6', '4', '6', '5', '7', '4', '3', '5', '7', '4', '5', '4', '6', '3', '7', '5', '4', '3', '7', '2', '6', '6', '6', '6', '4', '6', '5', '1', '2', '5', '4', '2', '1', '2', '4', '4', '7', '7', '7', '5', '4', '2', '3', '1', '1', '1', '5', '4', '6', '3', '4', '5', '7', '4', '7', '3', '5', '5', '3', '6', '5', '2', '4', '5', '5', '5', '7', '2', '4', '6', '7', '4', '2', '4', '5', '7', '4', '7', '7', '7', '4', '4', '7', '6', '5', '7', '7', '6', '5', '6', '3', '6', '7', '6', '6', '7', '7', '7', '7', '7', '6', '7', '7', '7', '7', '7', '3', '7', '6', '6', '3', '6', '6', '5', '4', '7', '7', '5', '7', '7', '4', '7', '5', '5', '6', '7', '5', '4', '5', '4', '4', '7', '6']}\n"
     ]
    }
   ],
   "source": [
    "print(overdrive)"
   ]
  },
  {
   "cell_type": "markdown",
   "metadata": {},
   "source": [
    "To further specify our data, I'll define a good recommendation to be any rating above 4. Given that a good recommendation is any number greater than 4, let's filter through some of the recommendations."
   ]
  },
  {
   "cell_type": "code",
   "execution_count": 50,
   "metadata": {},
   "outputs": [
    {
     "name": "stdout",
     "output_type": "stream",
     "text": [
      "{'prior_exp': ['None to less than one month!', 'None to less than one month!', 'None to less than one month!', 'None to less than one month!', 'None to less than one month!', 'None to less than one month!', 'None to less than one month!', 'None to less than one month!', 'None to less than one month!'], 'would_recommend': ['7', '7', '7', '7', '7']}\n"
     ]
    },
    {
     "data": {
      "text/html": [
       "<table>\n",
       "<thead>\n",
       "<tr><th>prior_exp                   </th><th style=\"text-align: right;\">  would_recommend</th></tr>\n",
       "</thead>\n",
       "<tbody>\n",
       "<tr><td>None to less than one month!</td><td style=\"text-align: right;\">                7</td></tr>\n",
       "<tr><td>None to less than one month!</td><td style=\"text-align: right;\">                7</td></tr>\n",
       "<tr><td>None to less than one month!</td><td style=\"text-align: right;\">                7</td></tr>\n",
       "<tr><td>None to less than one month!</td><td style=\"text-align: right;\">                7</td></tr>\n",
       "<tr><td>None to less than one month!</td><td style=\"text-align: right;\">                7</td></tr>\n",
       "</tbody>\n",
       "</table>"
      ],
      "text/plain": [
       "'<table>\\n<thead>\\n<tr><th>prior_exp                   </th><th style=\"text-align: right;\">  would_recommend</th></tr>\\n</thead>\\n<tbody>\\n<tr><td>None to less than one month!</td><td style=\"text-align: right;\">                7</td></tr>\\n<tr><td>None to less than one month!</td><td style=\"text-align: right;\">                7</td></tr>\\n<tr><td>None to less than one month!</td><td style=\"text-align: right;\">                7</td></tr>\\n<tr><td>None to less than one month!</td><td style=\"text-align: right;\">                7</td></tr>\\n<tr><td>None to less than one month!</td><td style=\"text-align: right;\">                7</td></tr>\\n</tbody>\\n</table>'"
      ]
     },
     "execution_count": 50,
     "metadata": {},
     "output_type": "execute_result"
    }
   ],
   "source": [
    "from data_utils import ratings_filter\n",
    "\n",
    "filtered_recommendations = ratings_filter(thunderdrive, 6)\n",
    "new_needed_data = concat(wanted_prior_exp, filtered_recommendations)\n",
    "print(new_needed_data)\n",
    "new_equivalent_dicts = eq(new_needed_data)\n",
    "tabulate(new_equivalent_dicts, new_equivalent_dicts.keys(), \"html\")"
   ]
  },
  {
   "cell_type": "markdown",
   "metadata": {},
   "source": [
    "Here's a messy example of how all of the data looks, filtered of course."
   ]
  },
  {
   "cell_type": "code",
   "execution_count": 51,
   "metadata": {},
   "outputs": [
    {
     "data": {
      "text/plain": [
       "{'would_recommend': ['7',\n",
       "  '7',\n",
       "  '7',\n",
       "  '7',\n",
       "  '7',\n",
       "  '6',\n",
       "  '6',\n",
       "  '5',\n",
       "  '5',\n",
       "  '6',\n",
       "  '6',\n",
       "  '6',\n",
       "  '7',\n",
       "  '5',\n",
       "  '7',\n",
       "  '7',\n",
       "  '7',\n",
       "  '7',\n",
       "  '5',\n",
       "  '5',\n",
       "  '6',\n",
       "  '5',\n",
       "  '6',\n",
       "  '5',\n",
       "  '5',\n",
       "  '7',\n",
       "  '5',\n",
       "  '7',\n",
       "  '5',\n",
       "  '7',\n",
       "  '7',\n",
       "  '5',\n",
       "  '7',\n",
       "  '6',\n",
       "  '6',\n",
       "  '5',\n",
       "  '6',\n",
       "  '5',\n",
       "  '7',\n",
       "  '5',\n",
       "  '7',\n",
       "  '5',\n",
       "  '5',\n",
       "  '6',\n",
       "  '6',\n",
       "  '7',\n",
       "  '6',\n",
       "  '5',\n",
       "  '7',\n",
       "  '7',\n",
       "  '5',\n",
       "  '5',\n",
       "  '6',\n",
       "  '5',\n",
       "  '7',\n",
       "  '7',\n",
       "  '7',\n",
       "  '6',\n",
       "  '6',\n",
       "  '7',\n",
       "  '6',\n",
       "  '7',\n",
       "  '7',\n",
       "  '5',\n",
       "  '6',\n",
       "  '6',\n",
       "  '5',\n",
       "  '6',\n",
       "  '7',\n",
       "  '7',\n",
       "  '7',\n",
       "  '6',\n",
       "  '5',\n",
       "  '7',\n",
       "  '7',\n",
       "  '7',\n",
       "  '6',\n",
       "  '7',\n",
       "  '7',\n",
       "  '7',\n",
       "  '7',\n",
       "  '5',\n",
       "  '5',\n",
       "  '7',\n",
       "  '5',\n",
       "  '6',\n",
       "  '5',\n",
       "  '7',\n",
       "  '5',\n",
       "  '7',\n",
       "  '5',\n",
       "  '7',\n",
       "  '7',\n",
       "  '5',\n",
       "  '7',\n",
       "  '7',\n",
       "  '7',\n",
       "  '7',\n",
       "  '7',\n",
       "  '6',\n",
       "  '6',\n",
       "  '7',\n",
       "  '7',\n",
       "  '7',\n",
       "  '6',\n",
       "  '5',\n",
       "  '7',\n",
       "  '7',\n",
       "  '7',\n",
       "  '7',\n",
       "  '5',\n",
       "  '7',\n",
       "  '6',\n",
       "  '5',\n",
       "  '6',\n",
       "  '7',\n",
       "  '6',\n",
       "  '7',\n",
       "  '7',\n",
       "  '7',\n",
       "  '7',\n",
       "  '7',\n",
       "  '7',\n",
       "  '6',\n",
       "  '7',\n",
       "  '7',\n",
       "  '7',\n",
       "  '7',\n",
       "  '6',\n",
       "  '6',\n",
       "  '7',\n",
       "  '7',\n",
       "  '5',\n",
       "  '7',\n",
       "  '7',\n",
       "  '5',\n",
       "  '6',\n",
       "  '6',\n",
       "  '6',\n",
       "  '6',\n",
       "  '7',\n",
       "  '7',\n",
       "  '7',\n",
       "  '7',\n",
       "  '5',\n",
       "  '5',\n",
       "  '6',\n",
       "  '7',\n",
       "  '6',\n",
       "  '6',\n",
       "  '7',\n",
       "  '7',\n",
       "  '5',\n",
       "  '7',\n",
       "  '7',\n",
       "  '7',\n",
       "  '7',\n",
       "  '7',\n",
       "  '6',\n",
       "  '5',\n",
       "  '7',\n",
       "  '7',\n",
       "  '7',\n",
       "  '7',\n",
       "  '7',\n",
       "  '6',\n",
       "  '5',\n",
       "  '6',\n",
       "  '6',\n",
       "  '7',\n",
       "  '7',\n",
       "  '6',\n",
       "  '7',\n",
       "  '7',\n",
       "  '7',\n",
       "  '5',\n",
       "  '6',\n",
       "  '7',\n",
       "  '7',\n",
       "  '7',\n",
       "  '7',\n",
       "  '6',\n",
       "  '6',\n",
       "  '6',\n",
       "  '6',\n",
       "  '7',\n",
       "  '6',\n",
       "  '6',\n",
       "  '5',\n",
       "  '7',\n",
       "  '7',\n",
       "  '7',\n",
       "  '7',\n",
       "  '6',\n",
       "  '6',\n",
       "  '6',\n",
       "  '6',\n",
       "  '6',\n",
       "  '6',\n",
       "  '7',\n",
       "  '6',\n",
       "  '7',\n",
       "  '7',\n",
       "  '7',\n",
       "  '5',\n",
       "  '7',\n",
       "  '7',\n",
       "  '6',\n",
       "  '7',\n",
       "  '7',\n",
       "  '6',\n",
       "  '5',\n",
       "  '7',\n",
       "  '6',\n",
       "  '7',\n",
       "  '7',\n",
       "  '7',\n",
       "  '7',\n",
       "  '5',\n",
       "  '6',\n",
       "  '7',\n",
       "  '6',\n",
       "  '5',\n",
       "  '7',\n",
       "  '6',\n",
       "  '7',\n",
       "  '7',\n",
       "  '6',\n",
       "  '7',\n",
       "  '6',\n",
       "  '5',\n",
       "  '5',\n",
       "  '6',\n",
       "  '6',\n",
       "  '7',\n",
       "  '6',\n",
       "  '5',\n",
       "  '6',\n",
       "  '7',\n",
       "  '7',\n",
       "  '5',\n",
       "  '6',\n",
       "  '7',\n",
       "  '5',\n",
       "  '5',\n",
       "  '6',\n",
       "  '5',\n",
       "  '6',\n",
       "  '7',\n",
       "  '6',\n",
       "  '5',\n",
       "  '5',\n",
       "  '6',\n",
       "  '7',\n",
       "  '5',\n",
       "  '7',\n",
       "  '7',\n",
       "  '6',\n",
       "  '6',\n",
       "  '6',\n",
       "  '7',\n",
       "  '6',\n",
       "  '7',\n",
       "  '7',\n",
       "  '7',\n",
       "  '6',\n",
       "  '7',\n",
       "  '7',\n",
       "  '6',\n",
       "  '5',\n",
       "  '5',\n",
       "  '6',\n",
       "  '6',\n",
       "  '7',\n",
       "  '6',\n",
       "  '7',\n",
       "  '6',\n",
       "  '6',\n",
       "  '6',\n",
       "  '7',\n",
       "  '6',\n",
       "  '6',\n",
       "  '6',\n",
       "  '6',\n",
       "  '6',\n",
       "  '6',\n",
       "  '7',\n",
       "  '7',\n",
       "  '7',\n",
       "  '7',\n",
       "  '6',\n",
       "  '6',\n",
       "  '7',\n",
       "  '7',\n",
       "  '6',\n",
       "  '7',\n",
       "  '6',\n",
       "  '5',\n",
       "  '5',\n",
       "  '7',\n",
       "  '6',\n",
       "  '5',\n",
       "  '7',\n",
       "  '7',\n",
       "  '7',\n",
       "  '7',\n",
       "  '7',\n",
       "  '7',\n",
       "  '7',\n",
       "  '6',\n",
       "  '7',\n",
       "  '7',\n",
       "  '5',\n",
       "  '5',\n",
       "  '5',\n",
       "  '6',\n",
       "  '6',\n",
       "  '6',\n",
       "  '6',\n",
       "  '7',\n",
       "  '7',\n",
       "  '7',\n",
       "  '6',\n",
       "  '6',\n",
       "  '7',\n",
       "  '6',\n",
       "  '5',\n",
       "  '5',\n",
       "  '6',\n",
       "  '5',\n",
       "  '6',\n",
       "  '6',\n",
       "  '5',\n",
       "  '7',\n",
       "  '7',\n",
       "  '7',\n",
       "  '7',\n",
       "  '6',\n",
       "  '6',\n",
       "  '6',\n",
       "  '5',\n",
       "  '7',\n",
       "  '5',\n",
       "  '7',\n",
       "  '5',\n",
       "  '6',\n",
       "  '7',\n",
       "  '5',\n",
       "  '7',\n",
       "  '6',\n",
       "  '6',\n",
       "  '6',\n",
       "  '6',\n",
       "  '6',\n",
       "  '5',\n",
       "  '5',\n",
       "  '7',\n",
       "  '7',\n",
       "  '7',\n",
       "  '5',\n",
       "  '5',\n",
       "  '6',\n",
       "  '5',\n",
       "  '7',\n",
       "  '7',\n",
       "  '5',\n",
       "  '5',\n",
       "  '6',\n",
       "  '5',\n",
       "  '5',\n",
       "  '5',\n",
       "  '5',\n",
       "  '7',\n",
       "  '6',\n",
       "  '7',\n",
       "  '5',\n",
       "  '7',\n",
       "  '7',\n",
       "  '7',\n",
       "  '7',\n",
       "  '7',\n",
       "  '6',\n",
       "  '5',\n",
       "  '7',\n",
       "  '7',\n",
       "  '6',\n",
       "  '5',\n",
       "  '6',\n",
       "  '6',\n",
       "  '7',\n",
       "  '6',\n",
       "  '6',\n",
       "  '7',\n",
       "  '7',\n",
       "  '7',\n",
       "  '7',\n",
       "  '7',\n",
       "  '6',\n",
       "  '7',\n",
       "  '7',\n",
       "  '7',\n",
       "  '7',\n",
       "  '7',\n",
       "  '7',\n",
       "  '6',\n",
       "  '6',\n",
       "  '6',\n",
       "  '6',\n",
       "  '5',\n",
       "  '7',\n",
       "  '7',\n",
       "  '5',\n",
       "  '7',\n",
       "  '7',\n",
       "  '7',\n",
       "  '5',\n",
       "  '5',\n",
       "  '6',\n",
       "  '7',\n",
       "  '5',\n",
       "  '5',\n",
       "  '7',\n",
       "  '6']}"
      ]
     },
     "execution_count": 51,
     "metadata": {},
     "output_type": "execute_result"
    }
   ],
   "source": [
    "total_filtered_recommendations = ratings_filter(overdrive, 4)\n",
    "total_filtered_recommendations"
   ]
  },
  {
   "cell_type": "markdown",
   "metadata": {},
   "source": [
    "Now lets plot two bar graphs of the above data tables at their full capacity of values to see if the trend we hypothesized is true."
   ]
  },
  {
   "cell_type": "code",
   "execution_count": 52,
   "metadata": {},
   "outputs": [
    {
     "data": {
      "text/plain": [
       "Text(0, 0.5, 'Number of Students Responses')"
      ]
     },
     "execution_count": 52,
     "metadata": {},
     "output_type": "execute_result"
    },
    {
     "data": {
      "image/png": "[encoded data removed]",
      "text/plain": [
       "<Figure size 792x360 with 2 Axes>"
      ]
     },
     "metadata": {
      "needs_background": "light"
     },
     "output_type": "display_data"
    }
   ],
   "source": [
    "from matplotlib import pyplot as plt\n",
    "from data_utils import concat_int\n",
    "\n",
    "wanted_prior_exp_two = git_listy(subset, \"None to less than one month!\")\n",
    "skewed_recs = ratings_filter(overdrive, 4)\n",
    "t = count(wanted_prior_exp_two[\"prior_exp\"])\n",
    "tt = count(skewed_recs[\"would_recommend\"])\n",
    "new_int_data = concat_int(t, tt)\n",
    "\n",
    "new_int_data_two = concat_int(t, elms)\n",
    "\n",
    "fig, axes = plt.subplots(1, 2, figsize=(11, 5), sharey=True)\n",
    "fig.suptitle(\"Comparison of Little to No Experience and COMP 110 Recommendations.\")\n",
    "\n",
    "axes[0].set_title(\"No Experience and Recommendations Skewed to Good\")\n",
    "axes[0].bar(new_int_data.keys(), new_int_data.values())\n",
    "axes[0].tick_params(axis='x', labelrotation = 45)\n",
    "\n",
    "\n",
    "axes[1].set_title(\"No Experience and Recommendations\")\n",
    "axes[1].bar(new_int_data_two.keys(), new_int_data_two.values())\n",
    "axes[1].tick_params(axis='x', labelrotation = 45)\n",
    "plt.xlabel('Experience and Observed Recommendations')\n",
    "plt.ylabel('Number of Students Responses')"
   ]
  },
  {
   "cell_type": "markdown",
   "metadata": {},
   "source": [
    "## Viewing the two bar graphs and their trends, one can see that most students who have reported that they enrolled into COMP 110 with little to no experience tend to give good recommendations (recommendations with a rating over 4). Though, a sizable amount of the recommendations from our wanted prior_exp are of rating '4'."
   ]
  },
  {
   "cell_type": "markdown",
   "metadata": {},
   "source": [
    " ## To futher insure that my hypothesis stands, let's use addem_up one more time to create another ratio."
   ]
  },
  {
   "cell_type": "code",
   "execution_count": 53,
   "metadata": {},
   "outputs": [
    {
     "name": "stdout",
     "output_type": "stream",
     "text": [
      "{'7': 197, '4': 88, '6': 134, '5': 92, '1': 12, '3': 34, '2': 16}\n",
      " unfiltered recommendations: 573\n",
      " filtered recommendations: 423\n"
     ]
    }
   ],
   "source": [
    "print(elms)\n",
    "\n",
    "print(f\" unfiltered recommendations: {addem_up(elms)}\")\n",
    "print(f\" filtered recommendations: {addem_up(count(total_filtered_recommendations['would_recommend']))}\")\n"
   ]
  },
  {
   "cell_type": "markdown",
   "metadata": {},
   "source": [
    "## The above data is the count of how many total recommendations there were for our desired exp (573) and the filtered recommendations that skew to good recommendations [to those above '4'] (423).\n",
    "\n",
    "To get the number of recommendations that are 'bad', we need only subtract the two and find the difference."
   ]
  },
  {
   "cell_type": "code",
   "execution_count": 54,
   "metadata": {},
   "outputs": [
    {
     "name": "stdout",
     "output_type": "stream",
     "text": [
      "The difference is: 150\n",
      "Therefore, there are 150 'bad' recommendations.\n"
     ]
    }
   ],
   "source": [
    "non_filtered_recs = addem_up(elms)\n",
    "filtered_recs = addem_up(count(total_filtered_recommendations[\"would_recommend\"]))\n",
    "unwanted_recs = non_filtered_recs - filtered_recs\n",
    "print(f\"The difference is: {unwanted_recs}\")\n",
    "print(f\"Therefore, there are {unwanted_recs} 'bad' recommendations.\")"
   ]
  },
  {
   "cell_type": "markdown",
   "metadata": {},
   "source": [
    "## This means that our hypothesis stands victorious amoungst all of the sorted data!"
   ]
  },
  {
   "cell_type": "code",
   "execution_count": 55,
   "metadata": {},
   "outputs": [
    {
     "name": "stdout",
     "output_type": "stream",
     "text": [
      "Here's the ratio (or percent) of recommendations from our gathered data:\n",
      "573 / 423 = 0.7382198952879581\n",
      "This means that 74% of the total recommendations amoungst students with no prior_exp are good ones!\n",
      "Good job team 110! Y'all are rock stars!\n"
     ]
    }
   ],
   "source": [
    "ratio_of_recs_from_nonfiltered_to_filtered = (filtered_recs / non_filtered_recs)\n",
    "print(\"Here's the ratio (or percent) of recommendations from our gathered data:\")\n",
    "print(f'''{non_filtered_recs} / {filtered_recs} = {ratio_of_recs_from_nonfiltered_to_filtered}''')\n",
    "print(f\"This means that {round(ratio_of_recs_from_nonfiltered_to_filtered * 100)}% of the total recommendations amoungst students with no prior_exp are good ones!\")\n",
    "print(\"Good job team 110! Y'all are rock stars!\")"
   ]
  },
  {
   "cell_type": "markdown",
   "metadata": {},
   "source": [
    "## Here it is! I believe my initial hypothesis was correct. It appears that nearly 7/10 students who are enrolled in this course did not bring any prior experience in programming to COMP 110. Therefore, it is safe to conlcude that most students enrolled/registered for COMP 110 do not have prior programming experience. Moreover, our analysis of the 'Would Recommend' column led us to find that 74% of students who take COMP 110 with no prior_exp tend to recommend the class. To me, being willing to recommend the course to a friend at such a sublime rate of confidence, means that these students are really satisfied in the not only the course, but the instruction, personnel, and topics incorporated with the course as well!\n",
    "\n",
    "# Hypothesis concluded!"
   ]
  }
 ],
 "metadata": {
  "interpreter": {
   "hash": "6af0830df5576765fe55e641ad0936112e19a8a9abb54b73ef03d4d7c9ba3ea9"
  },
  "kernelspec": {
   "display_name": "Python 3.10.0 64-bit",
   "name": "python3"
  },
  "language_info": {
   "codemirror_mode": {
    "name": "ipython",
    "version": 3
   },
   "file_extension": ".py",
   "mimetype": "text/x-python",
   "name": "python",
   "nbconvert_exporter": "python",
   "pygments_lexer": "ipython3",
   "version": "3.10.0"
  },
  "orig_nbformat": 4
 },
 "nbformat": 4,
 "nbformat_minor": 2
}
