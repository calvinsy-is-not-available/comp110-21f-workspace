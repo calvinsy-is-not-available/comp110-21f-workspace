{
 "cells": [
  {
   "cell_type": "code",
   "execution_count": 10,
   "metadata": {},
   "outputs": [],
   "source": [
    "%reload_ext autoreload\n",
    "%autoreload 2"
   ]
  },
  {
   "cell_type": "markdown",
   "metadata": {},
   "source": [
    "# MY HYPOTHESIS:\n",
    "\n",
    "\n",
    "## Most of the students who are taking comp 110 have no previous experience in coding."
   ]
  },
  {
   "cell_type": "markdown",
   "metadata": {},
   "source": [
    "\n",
    "\n",
    "### First things first: I need to read the CSV and convert it into a column-oriented table.\n"
   ]
  },
  {
   "cell_type": "code",
   "execution_count": 11,
   "metadata": {},
   "outputs": [],
   "source": [
    "from data_utils import columnar, read_csv_rows\n",
    "\n",
    "data_rows: dict[str, list[str]] = read_csv_rows('../../data/survey.csv')\n",
    "columns: dict[str, list[str]] = columnar(data_rows)"
   ]
  },
  {
   "cell_type": "markdown",
   "metadata": {},
   "source": [
    "### Lets see if we can view this as a data table:\n"
   ]
  },
  {
   "cell_type": "code",
   "execution_count": 12,
   "metadata": {},
   "outputs": [
    {
     "data": {
      "text/html": [
       "<table>\n",
       "<thead>\n",
       "<tr><th>prior_exp                   </th></tr>\n",
       "</thead>\n",
       "<tbody>\n",
       "<tr><td>None to less than one month!</td></tr>\n",
       "<tr><td>None to less than one month!</td></tr>\n",
       "<tr><td>None to less than one month!</td></tr>\n",
       "<tr><td>None to less than one month!</td></tr>\n",
       "<tr><td>None to less than one month!</td></tr>\n",
       "<tr><td>Over 2 years                </td></tr>\n",
       "<tr><td>None to less than one month!</td></tr>\n",
       "<tr><td>None to less than one month!</td></tr>\n",
       "<tr><td>None to less than one month!</td></tr>\n",
       "<tr><td>None to less than one month!</td></tr>\n",
       "</tbody>\n",
       "</table>"
      ],
      "text/plain": [
       "'<table>\\n<thead>\\n<tr><th>prior_exp                   </th></tr>\\n</thead>\\n<tbody>\\n<tr><td>None to less than one month!</td></tr>\\n<tr><td>None to less than one month!</td></tr>\\n<tr><td>None to less than one month!</td></tr>\\n<tr><td>None to less than one month!</td></tr>\\n<tr><td>None to less than one month!</td></tr>\\n<tr><td>Over 2 years                </td></tr>\\n<tr><td>None to less than one month!</td></tr>\\n<tr><td>None to less than one month!</td></tr>\\n<tr><td>None to less than one month!</td></tr>\\n<tr><td>None to less than one month!</td></tr>\\n</tbody>\\n</table>'"
      ]
     },
     "execution_count": 12,
     "metadata": {},
     "output_type": "execute_result"
    }
   ],
   "source": [
    "from data_utils import column_values, columnar, head, select\n",
    "\n",
    "subset: dict[str, list[str]] = select(columns, [\"prior_exp\"])\n",
    "sunset: dict[str, list[str]] = head(subset, 10)\n",
    "\n",
    "from tabulate import tabulate\n",
    "\n",
    "tabulate(sunset, sunset.keys(), \"html\")\n",
    "\n"
   ]
  },
  {
   "cell_type": "markdown",
   "metadata": {},
   "source": [
    "### So far it seems that our hypothesis is confirmed!"
   ]
  },
  {
   "cell_type": "markdown",
   "metadata": {},
   "source": [
    "In the above table, it appears that approximately 9 out of 10 students do not have any prior programming experience."
   ]
  },
  {
   "cell_type": "markdown",
   "metadata": {},
   "source": [
    "## To confirm our hypothesis, let's see if the count associated with our all of our data is indicative of the trend we anaylzed in the previous data table."
   ]
  },
  {
   "cell_type": "code",
   "execution_count": 13,
   "metadata": {},
   "outputs": [
    {
     "name": "stdout",
     "output_type": "stream",
     "text": [
      "exp_counts: {'None to less than one month!': 403, 'Over 2 years': 11, '2-6 months': 104, '7-12 months': 37, '1-2 years': 18}\n"
     ]
    }
   ],
   "source": [
    "from data_utils import count\n",
    "\n",
    "counts: dict[str, int] = count(subset[\"prior_exp\"])\n",
    "print(f\"exp_counts: {counts}\")"
   ]
  },
  {
   "cell_type": "markdown",
   "metadata": {},
   "source": [
    "## Let's view the ratio of students who do not have any previous experience in COMP SCI, to those who do:"
   ]
  },
  {
   "cell_type": "markdown",
   "metadata": {},
   "source": [
    "## To do this, I will implement a new function similar to the count function. The function will be named addem_up, and instead of counting the occurences of each individual list, it will count all the responses from a particular column. This will make it easier to create a ratio using the two functions (count & addem_up) in tandem-- rather than making counts increasing more complicated. "
   ]
  },
  {
   "cell_type": "markdown",
   "metadata": {},
   "source": [
    "### \n",
    "This function can be useful in other ways. For instance, say if an individual needed to tally up all the responses from a poll or servey, without accessing the the frequency of each responce, the addem_up function would be useful in that circumstance."
   ]
  },
  {
   "cell_type": "code",
   "execution_count": 14,
   "metadata": {},
   "outputs": [
    {
     "name": "stdout",
     "output_type": "stream",
     "text": [
      "403 / 573\n",
      "\n",
      "\n",
      "==\n",
      "\n",
      "\n",
      "0.7033158813263525\n"
     ]
    }
   ],
   "source": [
    "from data_utils import addem_up\n",
    "\n",
    "x = counts[\"None to less than one month!\"]\n",
    "y = addem_up(counts)\n",
    "\n",
    "print(f\"{x} / {y}\")\n",
    "print('''\n",
    "\n",
    "==\n",
    "\n",
    "''')\n",
    "print(x / y)"
   ]
  },
  {
   "cell_type": "markdown",
   "metadata": {},
   "source": [
    " ### If I've interpreted the data accurately, this means that 7 out of 10 students in COMP 110 do not have any prior programming experience!! Which means that COMP 110 must be a stellar intro course to COMP SCI."
   ]
  },
  {
   "cell_type": "markdown",
   "metadata": {},
   "source": [
    "### To further analyze this claim, I will plot all of the data associated with column to determine if the trend follows the previous ratios determined."
   ]
  },
  {
   "cell_type": "code",
   "execution_count": 15,
   "metadata": {},
   "outputs": [
    {
     "data": {
      "image/png": "[encoded data removed]",
      "text/plain": [
       "<Figure size 3744x504 with 1 Axes>"
      ]
     },
     "metadata": {
      "needs_background": "light"
     },
     "output_type": "display_data"
    }
   ],
   "source": [
    "from matplotlib import pyplot as plt\n",
    "\n",
    "names = counts.keys()\n",
    "values = counts.values()\n",
    "\n",
    "plt.figure(figsize=(52, 7))\n",
    "plt.subplot(131)\n",
    "plt.bar(names, values)\n",
    "plt.title(\"Do COMP 110 Students have prior programming experience?\")\n",
    "plt.xlabel('Students')\n",
    "plt.ylabel('Number of Students')\n",
    "plt.show()\n"
   ]
  },
  {
   "cell_type": "markdown",
   "metadata": {},
   "source": [
    " # Great! Now to top this finding off, I think it would best if I cross-matched this data off with data from the \"would_recommend\" column. Let's see if we can create a data table that both displays prior experience and willingness to recommend COMP 110."
   ]
  },
  {
   "cell_type": "markdown",
   "metadata": {},
   "source": [
    "## First, I'll view a portion of recommendations:"
   ]
  },
  {
   "cell_type": "code",
   "execution_count": 16,
   "metadata": {},
   "outputs": [
    {
     "data": {
      "text/html": [
       "<table>\n",
       "<thead>\n",
       "<tr><th style=\"text-align: right;\">  would_recommend</th></tr>\n",
       "</thead>\n",
       "<tbody>\n",
       "<tr><td style=\"text-align: right;\">                7</td></tr>\n",
       "<tr><td style=\"text-align: right;\">                7</td></tr>\n",
       "<tr><td style=\"text-align: right;\">                7</td></tr>\n",
       "<tr><td style=\"text-align: right;\">                7</td></tr>\n",
       "<tr><td style=\"text-align: right;\">                7</td></tr>\n",
       "<tr><td style=\"text-align: right;\">                4</td></tr>\n",
       "<tr><td style=\"text-align: right;\">                6</td></tr>\n",
       "<tr><td style=\"text-align: right;\">                4</td></tr>\n",
       "<tr><td style=\"text-align: right;\">                6</td></tr>\n",
       "<tr><td style=\"text-align: right;\">                5</td></tr>\n",
       "</tbody>\n",
       "</table>"
      ],
      "text/plain": [
       "'<table>\\n<thead>\\n<tr><th style=\"text-align: right;\">  would_recommend</th></tr>\\n</thead>\\n<tbody>\\n<tr><td style=\"text-align: right;\">                7</td></tr>\\n<tr><td style=\"text-align: right;\">                7</td></tr>\\n<tr><td style=\"text-align: right;\">                7</td></tr>\\n<tr><td style=\"text-align: right;\">                7</td></tr>\\n<tr><td style=\"text-align: right;\">                7</td></tr>\\n<tr><td style=\"text-align: right;\">                4</td></tr>\\n<tr><td style=\"text-align: right;\">                6</td></tr>\\n<tr><td style=\"text-align: right;\">                4</td></tr>\\n<tr><td style=\"text-align: right;\">                6</td></tr>\\n<tr><td style=\"text-align: right;\">                5</td></tr>\\n</tbody>\\n</table>'"
      ]
     },
     "execution_count": 16,
     "metadata": {},
     "output_type": "execute_result"
    }
   ],
   "source": [
    "from tabulate import tabulate\n",
    "\n",
    "overdrive: dict[str, list[str]] = select(columns, [\"would_recommend\"])\n",
    "thunderdrive: dict[str, list[str]] = head(overdrive, 10)\n",
    "\n",
    "tabulate(thunderdrive, thunderdrive.keys(), \"html\")"
   ]
  },
  {
   "cell_type": "markdown",
   "metadata": {},
   "source": [
    "## Now that I've done that, let's see if I can produce a count of each individual input of a recommendation."
   ]
  },
  {
   "cell_type": "code",
   "execution_count": 18,
   "metadata": {},
   "outputs": [
    {
     "name": "stdout",
     "output_type": "stream",
     "text": [
      "exp_counts: {'7': 197, '4': 88, '6': 134, '5': 92, '1': 12, '3': 34, '2': 16}\n"
     ]
    }
   ],
   "source": [
    "from data_utils import count\n",
    "\n",
    "\n",
    "elms: dict[str, int] = count(overdrive[\"would_recommend\"])\n",
    "print(f\"exp_counts: {elms}\")"
   ]
  },
  {
   "cell_type": "markdown",
   "metadata": {},
   "source": [
    "## That's a lot of data! Let's see if I can't combine both the data table for prior experience and COMP 110's students' willingness to recommend the class."
   ]
  },
  {
   "cell_type": "code",
   "execution_count": 34,
   "metadata": {},
   "outputs": [
    {
     "data": {
      "text/html": [
       "<table>\n",
       "<thead>\n",
       "<tr><th>prior_exp                   </th><th style=\"text-align: right;\">  would_recommend</th></tr>\n",
       "</thead>\n",
       "<tbody>\n",
       "<tr><td>None to less than one month!</td><td style=\"text-align: right;\">                7</td></tr>\n",
       "<tr><td>None to less than one month!</td><td style=\"text-align: right;\">                7</td></tr>\n",
       "<tr><td>None to less than one month!</td><td style=\"text-align: right;\">                7</td></tr>\n",
       "<tr><td>None to less than one month!</td><td style=\"text-align: right;\">                7</td></tr>\n",
       "<tr><td>None to less than one month!</td><td style=\"text-align: right;\">                7</td></tr>\n",
       "<tr><td>Over 2 years                </td><td style=\"text-align: right;\">                4</td></tr>\n",
       "<tr><td>None to less than one month!</td><td style=\"text-align: right;\">                6</td></tr>\n",
       "<tr><td>None to less than one month!</td><td style=\"text-align: right;\">                4</td></tr>\n",
       "<tr><td>None to less than one month!</td><td style=\"text-align: right;\">                6</td></tr>\n",
       "<tr><td>None to less than one month!</td><td style=\"text-align: right;\">                5</td></tr>\n",
       "</tbody>\n",
       "</table>"
      ],
      "text/plain": [
       "'<table>\\n<thead>\\n<tr><th>prior_exp                   </th><th style=\"text-align: right;\">  would_recommend</th></tr>\\n</thead>\\n<tbody>\\n<tr><td>None to less than one month!</td><td style=\"text-align: right;\">                7</td></tr>\\n<tr><td>None to less than one month!</td><td style=\"text-align: right;\">                7</td></tr>\\n<tr><td>None to less than one month!</td><td style=\"text-align: right;\">                7</td></tr>\\n<tr><td>None to less than one month!</td><td style=\"text-align: right;\">                7</td></tr>\\n<tr><td>None to less than one month!</td><td style=\"text-align: right;\">                7</td></tr>\\n<tr><td>Over 2 years                </td><td style=\"text-align: right;\">                4</td></tr>\\n<tr><td>None to less than one month!</td><td style=\"text-align: right;\">                6</td></tr>\\n<tr><td>None to less than one month!</td><td style=\"text-align: right;\">                4</td></tr>\\n<tr><td>None to less than one month!</td><td style=\"text-align: right;\">                6</td></tr>\\n<tr><td>None to less than one month!</td><td style=\"text-align: right;\">                5</td></tr>\\n</tbody>\\n</table>'"
      ]
     },
     "execution_count": 34,
     "metadata": {},
     "output_type": "execute_result"
    }
   ],
   "source": [
    "from tabulate import tabulate\n",
    "from data_utils import concat\n",
    "\n",
    "data_combined: dict[str, list[str]] = concat(sunset, thunderdrive)\n",
    "tabulate(data_combined, data_combined, \"html\")"
   ]
  },
  {
   "cell_type": "markdown",
   "metadata": {},
   "source": [
    "## Now, let's see if we can sort this data table to only get the response 'None to less than one month!'."
   ]
  },
  {
   "cell_type": "code",
   "execution_count": 32,
   "metadata": {},
   "outputs": [
    {
     "name": "stdout",
     "output_type": "stream",
     "text": [
      "['prior_exp']\n"
     ]
    },
    {
     "data": {
      "text/html": [
       "<table>\n",
       "<thead>\n",
       "<tr><th>prior_exp                   </th></tr>\n",
       "</thead>\n",
       "<tbody>\n",
       "<tr><td>None to less than one month!</td></tr>\n",
       "<tr><td>None to less than one month!</td></tr>\n",
       "<tr><td>None to less than one month!</td></tr>\n",
       "<tr><td>None to less than one month!</td></tr>\n",
       "<tr><td>None to less than one month!</td></tr>\n",
       "<tr><td>None to less than one month!</td></tr>\n",
       "<tr><td>None to less than one month!</td></tr>\n",
       "<tr><td>None to less than one month!</td></tr>\n",
       "<tr><td>None to less than one month!</td></tr>\n",
       "</tbody>\n",
       "</table>"
      ],
      "text/plain": [
       "'<table>\\n<thead>\\n<tr><th>prior_exp                   </th></tr>\\n</thead>\\n<tbody>\\n<tr><td>None to less than one month!</td></tr>\\n<tr><td>None to less than one month!</td></tr>\\n<tr><td>None to less than one month!</td></tr>\\n<tr><td>None to less than one month!</td></tr>\\n<tr><td>None to less than one month!</td></tr>\\n<tr><td>None to less than one month!</td></tr>\\n<tr><td>None to less than one month!</td></tr>\\n<tr><td>None to less than one month!</td></tr>\\n<tr><td>None to less than one month!</td></tr>\\n</tbody>\\n</table>'"
      ]
     },
     "execution_count": 32,
     "metadata": {},
     "output_type": "execute_result"
    }
   ],
   "source": [
    "from data_utils import git_listy\n",
    "\n",
    "wanted_prior_exp = git_listy(sunset, \"None to less than one month!\")\n",
    "tabulate(wanted_prior_exp, wanted_prior_exp.keys(), \"html\")\n"
   ]
  },
  {
   "cell_type": "markdown",
   "metadata": {},
   "source": [
    "Now let's see how our desired prior experience responses stack up against recommendations."
   ]
  },
  {
   "cell_type": "code",
   "execution_count": 37,
   "metadata": {},
   "outputs": [
    {
     "data": {
      "text/html": [
       "<table>\n",
       "<thead>\n",
       "<tr><th>prior_exp                   </th><th style=\"text-align: right;\">  would_recommend</th></tr>\n",
       "</thead>\n",
       "<tbody>\n",
       "<tr><td>None to less than one month!</td><td style=\"text-align: right;\">                7</td></tr>\n",
       "<tr><td>None to less than one month!</td><td style=\"text-align: right;\">                7</td></tr>\n",
       "<tr><td>None to less than one month!</td><td style=\"text-align: right;\">                7</td></tr>\n",
       "<tr><td>None to less than one month!</td><td style=\"text-align: right;\">                7</td></tr>\n",
       "<tr><td>None to less than one month!</td><td style=\"text-align: right;\">                7</td></tr>\n",
       "<tr><td>None to less than one month!</td><td style=\"text-align: right;\">                4</td></tr>\n",
       "<tr><td>None to less than one month!</td><td style=\"text-align: right;\">                6</td></tr>\n",
       "<tr><td>None to less than one month!</td><td style=\"text-align: right;\">                4</td></tr>\n",
       "<tr><td>None to less than one month!</td><td style=\"text-align: right;\">                6</td></tr>\n",
       "</tbody>\n",
       "</table>"
      ],
      "text/plain": [
       "'<table>\\n<thead>\\n<tr><th>prior_exp                   </th><th style=\"text-align: right;\">  would_recommend</th></tr>\\n</thead>\\n<tbody>\\n<tr><td>None to less than one month!</td><td style=\"text-align: right;\">                7</td></tr>\\n<tr><td>None to less than one month!</td><td style=\"text-align: right;\">                7</td></tr>\\n<tr><td>None to less than one month!</td><td style=\"text-align: right;\">                7</td></tr>\\n<tr><td>None to less than one month!</td><td style=\"text-align: right;\">                7</td></tr>\\n<tr><td>None to less than one month!</td><td style=\"text-align: right;\">                7</td></tr>\\n<tr><td>None to less than one month!</td><td style=\"text-align: right;\">                4</td></tr>\\n<tr><td>None to less than one month!</td><td style=\"text-align: right;\">                6</td></tr>\\n<tr><td>None to less than one month!</td><td style=\"text-align: right;\">                4</td></tr>\\n<tr><td>None to less than one month!</td><td style=\"text-align: right;\">                6</td></tr>\\n</tbody>\\n</table>'"
      ]
     },
     "execution_count": 37,
     "metadata": {},
     "output_type": "execute_result"
    }
   ],
   "source": [
    "from data_utils import eq\n",
    "\n",
    "needed_data = concat(wanted_prior_exp, thunderdrive)\n",
    "equivalent_dicts = eq(needed_data)\n",
    "tabulate(equivalent_dicts, equivalent_dicts.keys(), \"html\")"
   ]
  },
  {
   "cell_type": "markdown",
   "metadata": {},
   "source": [
    "To further specify our data, define a good recommendation to be above 4. Given that a good recommendation is any number greater than 4, let's filter through all of the recommendations "
   ]
  },
  {
   "cell_type": "code",
   "execution_count": 47,
   "metadata": {},
   "outputs": [
    {
     "data": {
      "text/html": [
       "<table>\n",
       "<thead>\n",
       "<tr><th>prior_exp                   </th><th style=\"text-align: right;\">  would_recommend</th></tr>\n",
       "</thead>\n",
       "<tbody>\n",
       "<tr><td>None to less than one month!</td><td style=\"text-align: right;\">                7</td></tr>\n",
       "<tr><td>None to less than one month!</td><td style=\"text-align: right;\">                7</td></tr>\n",
       "<tr><td>None to less than one month!</td><td style=\"text-align: right;\">                7</td></tr>\n",
       "<tr><td>None to less than one month!</td><td style=\"text-align: right;\">                7</td></tr>\n",
       "<tr><td>None to less than one month!</td><td style=\"text-align: right;\">                7</td></tr>\n",
       "<tr><td>None to less than one month!</td><td style=\"text-align: right;\">                6</td></tr>\n",
       "<tr><td>None to less than one month!</td><td style=\"text-align: right;\">                6</td></tr>\n",
       "</tbody>\n",
       "</table>"
      ],
      "text/plain": [
       "'<table>\\n<thead>\\n<tr><th>prior_exp                   </th><th style=\"text-align: right;\">  would_recommend</th></tr>\\n</thead>\\n<tbody>\\n<tr><td>None to less than one month!</td><td style=\"text-align: right;\">                7</td></tr>\\n<tr><td>None to less than one month!</td><td style=\"text-align: right;\">                7</td></tr>\\n<tr><td>None to less than one month!</td><td style=\"text-align: right;\">                7</td></tr>\\n<tr><td>None to less than one month!</td><td style=\"text-align: right;\">                7</td></tr>\\n<tr><td>None to less than one month!</td><td style=\"text-align: right;\">                7</td></tr>\\n<tr><td>None to less than one month!</td><td style=\"text-align: right;\">                6</td></tr>\\n<tr><td>None to less than one month!</td><td style=\"text-align: right;\">                6</td></tr>\\n</tbody>\\n</table>'"
      ]
     },
     "execution_count": 47,
     "metadata": {},
     "output_type": "execute_result"
    }
   ],
   "source": [
    "from data_utils import ratings_filter\n",
    "\n",
    "filtered_recommendations = ratings_filter(thunderdrive, 4)\n",
    "new_needed_data = concat(wanted_prior_exp, filtered_recommendations)\n",
    "new_equivalent_dicts = eq(new_needed_data)\n",
    "tabulate(new_equivalent_dicts, new_equivalent_dicts.keys(), \"html\")"
   ]
  },
  {
   "cell_type": "markdown",
   "metadata": {},
   "source": [
    "Now lets plot two bar graphs of the above data tables at their full capacity of values to see if the trend we hypothesized is true."
   ]
  },
  {
   "cell_type": "code",
   "execution_count": 50,
   "metadata": {},
   "outputs": [
    {
     "name": "stderr",
     "output_type": "stream",
     "text": [
      "C:\\Users\\Tsumi\\AppData\\Local\\Programs\\Python\\Python310\\lib\\site-packages\\numpy\\lib\\stride_tricks.py:536: VisibleDeprecationWarning: Creating an ndarray from ragged nested sequences (which is a list-or-tuple of lists-or-tuples-or ndarrays with different lengths or shapes) is deprecated. If you meant to do this, you must specify 'dtype=object' when creating the ndarray.\n",
      "  args = [np.array(_m, copy=False, subok=subok) for _m in args]\n"
     ]
    },
    {
     "ename": "UFuncTypeError",
     "evalue": "ufunc 'add' did not contain a loop with signature matching types (dtype('int32'), dtype('<U28')) -> None",
     "output_type": "error",
     "traceback": [
      "\u001b[1;31m---------------------------------------------------------------------------\u001b[0m",
      "\u001b[1;31mUFuncTypeError\u001b[0m                            Traceback (most recent call last)",
      "\u001b[1;32m~\\AppData\\Local\\Temp/ipykernel_7756/2876465077.py\u001b[0m in \u001b[0;36m<module>\u001b[1;34m\u001b[0m\n\u001b[0;32m     13\u001b[0m \u001b[1;33m\u001b[0m\u001b[0m\n\u001b[0;32m     14\u001b[0m \u001b[0maxes\u001b[0m\u001b[1;33m[\u001b[0m\u001b[1;36m0\u001b[0m\u001b[1;33m]\u001b[0m\u001b[1;33m.\u001b[0m\u001b[0mset_title\u001b[0m\u001b[1;33m(\u001b[0m\u001b[1;34m\"No Experience and Recommendations\"\u001b[0m\u001b[1;33m)\u001b[0m\u001b[1;33m\u001b[0m\u001b[1;33m\u001b[0m\u001b[0m\n\u001b[1;32m---> 15\u001b[1;33m \u001b[0maxes\u001b[0m\u001b[1;33m[\u001b[0m\u001b[1;36m0\u001b[0m\u001b[1;33m]\u001b[0m\u001b[1;33m.\u001b[0m\u001b[0mbar\u001b[0m\u001b[1;33m(\u001b[0m\u001b[0mdata_set_one\u001b[0m\u001b[1;33m.\u001b[0m\u001b[0mkeys\u001b[0m\u001b[1;33m(\u001b[0m\u001b[1;33m)\u001b[0m\u001b[1;33m,\u001b[0m \u001b[0mdata_set_one\u001b[0m\u001b[1;33m.\u001b[0m\u001b[0mvalues\u001b[0m\u001b[1;33m(\u001b[0m\u001b[1;33m)\u001b[0m\u001b[1;33m)\u001b[0m\u001b[1;33m\u001b[0m\u001b[1;33m\u001b[0m\u001b[0m\n\u001b[0m\u001b[0;32m     16\u001b[0m \u001b[0maxes\u001b[0m\u001b[1;33m[\u001b[0m\u001b[1;36m0\u001b[0m\u001b[1;33m]\u001b[0m\u001b[1;33m.\u001b[0m\u001b[0mtick_params\u001b[0m\u001b[1;33m(\u001b[0m\u001b[0maxis\u001b[0m\u001b[1;33m=\u001b[0m\u001b[1;34m'x'\u001b[0m\u001b[1;33m,\u001b[0m \u001b[0mlabelrotation\u001b[0m \u001b[1;33m=\u001b[0m \u001b[1;36m45\u001b[0m\u001b[1;33m)\u001b[0m\u001b[1;33m\u001b[0m\u001b[1;33m\u001b[0m\u001b[0m\n\u001b[0;32m     17\u001b[0m \u001b[1;33m\u001b[0m\u001b[0m\n",
      "\u001b[1;32m~\\AppData\\Local\\Programs\\Python\\Python310\\lib\\site-packages\\matplotlib\\__init__.py\u001b[0m in \u001b[0;36minner\u001b[1;34m(ax, data, *args, **kwargs)\u001b[0m\n\u001b[0;32m   1359\u001b[0m     \u001b[1;32mdef\u001b[0m \u001b[0minner\u001b[0m\u001b[1;33m(\u001b[0m\u001b[0max\u001b[0m\u001b[1;33m,\u001b[0m \u001b[1;33m*\u001b[0m\u001b[0margs\u001b[0m\u001b[1;33m,\u001b[0m \u001b[0mdata\u001b[0m\u001b[1;33m=\u001b[0m\u001b[1;32mNone\u001b[0m\u001b[1;33m,\u001b[0m \u001b[1;33m**\u001b[0m\u001b[0mkwargs\u001b[0m\u001b[1;33m)\u001b[0m\u001b[1;33m:\u001b[0m\u001b[1;33m\u001b[0m\u001b[1;33m\u001b[0m\u001b[0m\n\u001b[0;32m   1360\u001b[0m         \u001b[1;32mif\u001b[0m \u001b[0mdata\u001b[0m \u001b[1;32mis\u001b[0m \u001b[1;32mNone\u001b[0m\u001b[1;33m:\u001b[0m\u001b[1;33m\u001b[0m\u001b[1;33m\u001b[0m\u001b[0m\n\u001b[1;32m-> 1361\u001b[1;33m             \u001b[1;32mreturn\u001b[0m \u001b[0mfunc\u001b[0m\u001b[1;33m(\u001b[0m\u001b[0max\u001b[0m\u001b[1;33m,\u001b[0m \u001b[1;33m*\u001b[0m\u001b[0mmap\u001b[0m\u001b[1;33m(\u001b[0m\u001b[0msanitize_sequence\u001b[0m\u001b[1;33m,\u001b[0m \u001b[0margs\u001b[0m\u001b[1;33m)\u001b[0m\u001b[1;33m,\u001b[0m \u001b[1;33m**\u001b[0m\u001b[0mkwargs\u001b[0m\u001b[1;33m)\u001b[0m\u001b[1;33m\u001b[0m\u001b[1;33m\u001b[0m\u001b[0m\n\u001b[0m\u001b[0;32m   1362\u001b[0m \u001b[1;33m\u001b[0m\u001b[0m\n\u001b[0;32m   1363\u001b[0m         \u001b[0mbound\u001b[0m \u001b[1;33m=\u001b[0m \u001b[0mnew_sig\u001b[0m\u001b[1;33m.\u001b[0m\u001b[0mbind\u001b[0m\u001b[1;33m(\u001b[0m\u001b[0max\u001b[0m\u001b[1;33m,\u001b[0m \u001b[1;33m*\u001b[0m\u001b[0margs\u001b[0m\u001b[1;33m,\u001b[0m \u001b[1;33m**\u001b[0m\u001b[0mkwargs\u001b[0m\u001b[1;33m)\u001b[0m\u001b[1;33m\u001b[0m\u001b[1;33m\u001b[0m\u001b[0m\n",
      "\u001b[1;32m~\\AppData\\Local\\Programs\\Python\\Python310\\lib\\site-packages\\matplotlib\\axes\\_axes.py\u001b[0m in \u001b[0;36mbar\u001b[1;34m(self, x, height, width, bottom, align, **kwargs)\u001b[0m\n\u001b[0;32m   2355\u001b[0m                    hatch)\n\u001b[0;32m   2356\u001b[0m         \u001b[1;32mfor\u001b[0m \u001b[0ml\u001b[0m\u001b[1;33m,\u001b[0m \u001b[0mb\u001b[0m\u001b[1;33m,\u001b[0m \u001b[0mw\u001b[0m\u001b[1;33m,\u001b[0m \u001b[0mh\u001b[0m\u001b[1;33m,\u001b[0m \u001b[0mc\u001b[0m\u001b[1;33m,\u001b[0m \u001b[0me\u001b[0m\u001b[1;33m,\u001b[0m \u001b[0mlw\u001b[0m\u001b[1;33m,\u001b[0m \u001b[0mhtch\u001b[0m \u001b[1;32min\u001b[0m \u001b[0margs\u001b[0m\u001b[1;33m:\u001b[0m\u001b[1;33m\u001b[0m\u001b[1;33m\u001b[0m\u001b[0m\n\u001b[1;32m-> 2357\u001b[1;33m             r = mpatches.Rectangle(\n\u001b[0m\u001b[0;32m   2358\u001b[0m                 \u001b[0mxy\u001b[0m\u001b[1;33m=\u001b[0m\u001b[1;33m(\u001b[0m\u001b[0ml\u001b[0m\u001b[1;33m,\u001b[0m \u001b[0mb\u001b[0m\u001b[1;33m)\u001b[0m\u001b[1;33m,\u001b[0m \u001b[0mwidth\u001b[0m\u001b[1;33m=\u001b[0m\u001b[0mw\u001b[0m\u001b[1;33m,\u001b[0m \u001b[0mheight\u001b[0m\u001b[1;33m=\u001b[0m\u001b[0mh\u001b[0m\u001b[1;33m,\u001b[0m\u001b[1;33m\u001b[0m\u001b[1;33m\u001b[0m\u001b[0m\n\u001b[0;32m   2359\u001b[0m                 \u001b[0mfacecolor\u001b[0m\u001b[1;33m=\u001b[0m\u001b[0mc\u001b[0m\u001b[1;33m,\u001b[0m\u001b[1;33m\u001b[0m\u001b[1;33m\u001b[0m\u001b[0m\n",
      "\u001b[1;32m~\\AppData\\Local\\Programs\\Python\\Python310\\lib\\site-packages\\matplotlib\\patches.py\u001b[0m in \u001b[0;36m__init__\u001b[1;34m(self, xy, width, height, angle, **kwargs)\u001b[0m\n\u001b[0;32m    756\u001b[0m         \u001b[0mself\u001b[0m\u001b[1;33m.\u001b[0m\u001b[0m_height\u001b[0m \u001b[1;33m=\u001b[0m \u001b[0mheight\u001b[0m\u001b[1;33m\u001b[0m\u001b[1;33m\u001b[0m\u001b[0m\n\u001b[0;32m    757\u001b[0m         \u001b[0mself\u001b[0m\u001b[1;33m.\u001b[0m\u001b[0mangle\u001b[0m \u001b[1;33m=\u001b[0m \u001b[0mfloat\u001b[0m\u001b[1;33m(\u001b[0m\u001b[0mangle\u001b[0m\u001b[1;33m)\u001b[0m\u001b[1;33m\u001b[0m\u001b[1;33m\u001b[0m\u001b[0m\n\u001b[1;32m--> 758\u001b[1;33m         \u001b[0mself\u001b[0m\u001b[1;33m.\u001b[0m\u001b[0m_convert_units\u001b[0m\u001b[1;33m(\u001b[0m\u001b[1;33m)\u001b[0m  \u001b[1;31m# Validate the inputs.\u001b[0m\u001b[1;33m\u001b[0m\u001b[1;33m\u001b[0m\u001b[0m\n\u001b[0m\u001b[0;32m    759\u001b[0m \u001b[1;33m\u001b[0m\u001b[0m\n\u001b[0;32m    760\u001b[0m     \u001b[1;32mdef\u001b[0m \u001b[0mget_path\u001b[0m\u001b[1;33m(\u001b[0m\u001b[0mself\u001b[0m\u001b[1;33m)\u001b[0m\u001b[1;33m:\u001b[0m\u001b[1;33m\u001b[0m\u001b[1;33m\u001b[0m\u001b[0m\n",
      "\u001b[1;32m~\\AppData\\Local\\Programs\\Python\\Python310\\lib\\site-packages\\matplotlib\\patches.py\u001b[0m in \u001b[0;36m_convert_units\u001b[1;34m(self)\u001b[0m\n\u001b[0;32m    767\u001b[0m         \u001b[0my0\u001b[0m \u001b[1;33m=\u001b[0m \u001b[0mself\u001b[0m\u001b[1;33m.\u001b[0m\u001b[0mconvert_yunits\u001b[0m\u001b[1;33m(\u001b[0m\u001b[0mself\u001b[0m\u001b[1;33m.\u001b[0m\u001b[0m_y0\u001b[0m\u001b[1;33m)\u001b[0m\u001b[1;33m\u001b[0m\u001b[1;33m\u001b[0m\u001b[0m\n\u001b[0;32m    768\u001b[0m         \u001b[0mx1\u001b[0m \u001b[1;33m=\u001b[0m \u001b[0mself\u001b[0m\u001b[1;33m.\u001b[0m\u001b[0mconvert_xunits\u001b[0m\u001b[1;33m(\u001b[0m\u001b[0mself\u001b[0m\u001b[1;33m.\u001b[0m\u001b[0m_x0\u001b[0m \u001b[1;33m+\u001b[0m \u001b[0mself\u001b[0m\u001b[1;33m.\u001b[0m\u001b[0m_width\u001b[0m\u001b[1;33m)\u001b[0m\u001b[1;33m\u001b[0m\u001b[1;33m\u001b[0m\u001b[0m\n\u001b[1;32m--> 769\u001b[1;33m         \u001b[0my1\u001b[0m \u001b[1;33m=\u001b[0m \u001b[0mself\u001b[0m\u001b[1;33m.\u001b[0m\u001b[0mconvert_yunits\u001b[0m\u001b[1;33m(\u001b[0m\u001b[0mself\u001b[0m\u001b[1;33m.\u001b[0m\u001b[0m_y0\u001b[0m \u001b[1;33m+\u001b[0m \u001b[0mself\u001b[0m\u001b[1;33m.\u001b[0m\u001b[0m_height\u001b[0m\u001b[1;33m)\u001b[0m\u001b[1;33m\u001b[0m\u001b[1;33m\u001b[0m\u001b[0m\n\u001b[0m\u001b[0;32m    770\u001b[0m         \u001b[1;32mreturn\u001b[0m \u001b[0mx0\u001b[0m\u001b[1;33m,\u001b[0m \u001b[0my0\u001b[0m\u001b[1;33m,\u001b[0m \u001b[0mx1\u001b[0m\u001b[1;33m,\u001b[0m \u001b[0my1\u001b[0m\u001b[1;33m\u001b[0m\u001b[1;33m\u001b[0m\u001b[0m\n\u001b[0;32m    771\u001b[0m \u001b[1;33m\u001b[0m\u001b[0m\n",
      "\u001b[1;31mUFuncTypeError\u001b[0m: ufunc 'add' did not contain a loop with signature matching types (dtype('int32'), dtype('<U28')) -> None"
     ]
    },
    {
     "data": {
      "image/png": "[encoded data removed]",
      "text/plain": [
       "<Figure size 864x360 with 2 Axes>"
      ]
     },
     "metadata": {
      "needs_background": "light"
     },
     "output_type": "display_data"
    }
   ],
   "source": [
    "from matplotlib import pyplot as plt\n",
    "\n",
    "data_set_one = concat(wanted_prior_exp, overdrive)\n",
    "equivs = eq(data_set_one)\n",
    "\n",
    "skewed_recs = ratings_filter(overdrive, 4)\n",
    "data_set_two = concat(wanted_prior_exp, skewed_recs)\n",
    "equivs_two = eq(data_set_two)\n",
    "\n",
    "\n",
    "fig, axes = plt.subplots(1, 2, figsize=(12, 5), sharey=True)\n",
    "fig.suptitle(\"Comparison of Little to No Experience and COMP 110 Recommendations.\")\n",
    "\n",
    "axes[0].set_title(\"No Experience and Recommendations\")\n",
    "axes[0].bar(data_set_one.keys(), data_set_one.values())\n",
    "axes[0].tick_params(axis='x', labelrotation = 45)\n",
    "\n",
    "axes[1].set_title(\"No Experience and Recommendations skewed to good\")\n",
    "axes[1].bar(data_set_two.keys(), data_set_two.values())"
   ]
  },
  {
   "cell_type": "code",
   "execution_count": 33,
   "metadata": {},
   "outputs": [
    {
     "name": "stdout",
     "output_type": "stream",
     "text": [
      "['would_recommend']\n"
     ]
    },
    {
     "data": {
      "text/html": [
       "<table>\n",
       "<thead>\n",
       "<tr><th style=\"text-align: right;\">  would_recommend</th></tr>\n",
       "</thead>\n",
       "<tbody>\n",
       "<tr><td style=\"text-align: right;\">                7</td></tr>\n",
       "<tr><td style=\"text-align: right;\">                7</td></tr>\n",
       "<tr><td style=\"text-align: right;\">                7</td></tr>\n",
       "<tr><td style=\"text-align: right;\">                7</td></tr>\n",
       "<tr><td style=\"text-align: right;\">                7</td></tr>\n",
       "</tbody>\n",
       "</table>"
      ],
      "text/plain": [
       "'<table>\\n<thead>\\n<tr><th style=\"text-align: right;\">  would_recommend</th></tr>\\n</thead>\\n<tbody>\\n<tr><td style=\"text-align: right;\">                7</td></tr>\\n<tr><td style=\"text-align: right;\">                7</td></tr>\\n<tr><td style=\"text-align: right;\">                7</td></tr>\\n<tr><td style=\"text-align: right;\">                7</td></tr>\\n<tr><td style=\"text-align: right;\">                7</td></tr>\\n</tbody>\\n</table>'"
      ]
     },
     "execution_count": 33,
     "metadata": {},
     "output_type": "execute_result"
    }
   ],
   "source": [
    "wanted_recommendation = git_listy(thunderdrive, \"7\")\n",
    "tabulate(wanted_recommendation, wanted_recommendation.keys(), \"html\")"
   ]
  },
  {
   "cell_type": "markdown",
   "metadata": {},
   "source": [
    "## Here it is! I believe my initial hypothesis was correct. It appears that nearly 7/10 students who are enrolled in this course did not bring any prior experience in programming to COMP 110. Therefore, it is safe to conlcude that most students enrolled/registered for COMP 110 do not have prior programming experience."
   ]
  }
 ],
 "metadata": {
  "interpreter": {
   "hash": "6af0830df5576765fe55e641ad0936112e19a8a9abb54b73ef03d4d7c9ba3ea9"
  },
  "kernelspec": {
   "display_name": "Python 3.10.0 64-bit",
   "name": "python3"
  },
  "language_info": {
   "codemirror_mode": {
    "name": "ipython",
    "version": 3
   },
   "file_extension": ".py",
   "mimetype": "text/x-python",
   "name": "python",
   "nbconvert_exporter": "python",
   "pygments_lexer": "ipython3",
   "version": "3.10.0"
  },
  "orig_nbformat": 4
 },
 "nbformat": 4,
 "nbformat_minor": 2
}
