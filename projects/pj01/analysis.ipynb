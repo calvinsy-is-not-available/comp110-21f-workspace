{
 "cells": [
  {
   "cell_type": "code",
   "execution_count": 65,
   "metadata": {},
   "outputs": [],
   "source": [
    "%reload_ext autoreload\n",
    "%autoreload 2"
   ]
  },
  {
   "cell_type": "markdown",
   "metadata": {},
   "source": [
    "# MY HYPOTHESIS:\n",
    "\n",
    "\n",
    "## Most of the students who are taking comp 110 have no previous experience in coding."
   ]
  },
  {
   "cell_type": "markdown",
   "metadata": {},
   "source": [
    "\n",
    "\n",
    "### First things first: I need to read the CSV and convert it into a column-oriented table.\n"
   ]
  },
  {
   "cell_type": "code",
   "execution_count": 66,
   "metadata": {},
   "outputs": [],
   "source": [
    "from data_utils import columnar, read_csv_rows\n",
    "\n",
    "data_rows: dict[str, list[str]] = read_csv_rows('../../data/survey.csv')\n",
    "columns: dict[str, list[str]] = columnar(data_rows)"
   ]
  },
  {
   "cell_type": "markdown",
   "metadata": {},
   "source": [
    "### Lets see if we can view this as a data table:\n"
   ]
  },
  {
   "cell_type": "code",
   "execution_count": 67,
   "metadata": {},
   "outputs": [
    {
     "data": {
      "text/html": [
       "<table>\n",
       "<thead>\n",
       "<tr><th>prior_exp                   </th></tr>\n",
       "</thead>\n",
       "<tbody>\n",
       "<tr><td>None to less than one month!</td></tr>\n",
       "<tr><td>None to less than one month!</td></tr>\n",
       "<tr><td>None to less than one month!</td></tr>\n",
       "<tr><td>None to less than one month!</td></tr>\n",
       "<tr><td>None to less than one month!</td></tr>\n",
       "<tr><td>Over 2 years                </td></tr>\n",
       "<tr><td>None to less than one month!</td></tr>\n",
       "<tr><td>None to less than one month!</td></tr>\n",
       "<tr><td>None to less than one month!</td></tr>\n",
       "<tr><td>None to less than one month!</td></tr>\n",
       "</tbody>\n",
       "</table>"
      ],
      "text/plain": [
       "'<table>\\n<thead>\\n<tr><th>prior_exp                   </th></tr>\\n</thead>\\n<tbody>\\n<tr><td>None to less than one month!</td></tr>\\n<tr><td>None to less than one month!</td></tr>\\n<tr><td>None to less than one month!</td></tr>\\n<tr><td>None to less than one month!</td></tr>\\n<tr><td>None to less than one month!</td></tr>\\n<tr><td>Over 2 years                </td></tr>\\n<tr><td>None to less than one month!</td></tr>\\n<tr><td>None to less than one month!</td></tr>\\n<tr><td>None to less than one month!</td></tr>\\n<tr><td>None to less than one month!</td></tr>\\n</tbody>\\n</table>'"
      ]
     },
     "execution_count": 67,
     "metadata": {},
     "output_type": "execute_result"
    }
   ],
   "source": [
    "from data_utils import column_values, columnar, head, select\n",
    "\n",
    "subset: dict[str, list[str]] = select(columns, [\"prior_exp\"])\n",
    "sunset: dict[str, list[str]] = head(subset, 10)\n",
    "\n",
    "from tabulate import tabulate\n",
    "\n",
    "tabulate(sunset, sunset.keys(), \"html\")\n",
    "\n"
   ]
  },
  {
   "cell_type": "markdown",
   "metadata": {},
   "source": [
    "### So far it seems that our hypothesis is confirmed!"
   ]
  },
  {
   "cell_type": "markdown",
   "metadata": {},
   "source": [
    "In the above table, it appears that approximately 9 out of 10 students do not have any prior programming experience."
   ]
  },
  {
   "cell_type": "markdown",
   "metadata": {},
   "source": [
    "## To confirm our hypothesis, let's see if the count associated with our all of our data is indicative of the trend we anaylzed in the previous data table."
   ]
  },
  {
   "cell_type": "code",
   "execution_count": 68,
   "metadata": {},
   "outputs": [
    {
     "name": "stdout",
     "output_type": "stream",
     "text": [
      "exp_counts: {'None to less than one month!': 403, 'Over 2 years': 11, '2-6 months': 104, '7-12 months': 37, '1-2 years': 18}\n"
     ]
    }
   ],
   "source": [
    "from data_utils import count\n",
    "\n",
    "counts: dict[str, int] = count(subset[\"prior_exp\"])\n",
    "print(f\"exp_counts: {counts}\")"
   ]
  },
  {
   "cell_type": "markdown",
   "metadata": {},
   "source": [
    "## Let's view the ratio of students who do not have any previous experience in COMP SCI, to those who do:"
   ]
  },
  {
   "cell_type": "code",
   "execution_count": 69,
   "metadata": {},
   "outputs": [
    {
     "name": "stdout",
     "output_type": "stream",
     "text": [
      "403 / 573\n",
      "\n",
      "\n",
      "==\n",
      "\n",
      "\n",
      "0.7033158813263525\n"
     ]
    }
   ],
   "source": [
    "from data_utils import addem_up\n",
    "\n",
    "x = counts[\"None to less than one month!\"]\n",
    "y = addem_up(counts)\n",
    "\n",
    "print(f\"{x} / {y}\")\n",
    "print('''\n",
    "\n",
    "==\n",
    "\n",
    "''')\n",
    "print(x / y)"
   ]
  },
  {
   "cell_type": "markdown",
   "metadata": {},
   "source": [
    " ### If I've computed the statistics correct, this means that 7 out of 10 students in COMP 110 do not have any prior programming experience!! Which means that COMP 110 must be a stellar intro course to COMP SCI."
   ]
  },
  {
   "cell_type": "markdown",
   "metadata": {},
   "source": [
    "### To further analyze this claim, I will plot all of the data associated with column to determine if the trend follows the previous ratios determined."
   ]
  },
  {
   "cell_type": "code",
   "execution_count": 70,
   "metadata": {},
   "outputs": [
    {
     "data": {
      "image/png": "[encoded data removed]",
      "text/plain": [
       "<Figure size 3744x504 with 1 Axes>"
      ]
     },
     "metadata": {
      "needs_background": "light"
     },
     "output_type": "display_data"
    }
   ],
   "source": [
    "from matplotlib import pyplot as plt\n",
    "\n",
    "names = counts.keys()\n",
    "values = counts.values()\n",
    "\n",
    "plt.figure(figsize=(52, 7))\n",
    "plt.subplot(131)\n",
    "plt.bar(names, values)\n",
    "plt.title(\"Do COMP 110 Students have prior programming experience?\")\n",
    "plt.xlabel('Students')\n",
    "plt.ylabel('Number of Students')\n",
    "plt.show()\n"
   ]
  },
  {
   "cell_type": "markdown",
   "metadata": {},
   "source": [
    "## Here it is! I believe my initial hypothesis was correct. It appears that nearly 7/10 students who are enrolled in this course did not bring any prior experience in programming to COMP 110. Therefore, it is safe to conlcude that most students enrolled/registered for COMP 110 do not have prior programming experience."
   ]
  }
 ],
 "metadata": {
  "interpreter": {
   "hash": "6af0830df5576765fe55e641ad0936112e19a8a9abb54b73ef03d4d7c9ba3ea9"
  },
  "kernelspec": {
   "display_name": "Python 3.10.0 64-bit",
   "name": "python3"
  },
  "language_info": {
   "codemirror_mode": {
    "name": "ipython",
    "version": 3
   },
   "file_extension": ".py",
   "mimetype": "text/x-python",
   "name": "python",
   "nbconvert_exporter": "python",
   "pygments_lexer": "ipython3",
   "version": "3.10.0"
  },
  "orig_nbformat": 4
 },
 "nbformat": 4,
 "nbformat_minor": 2
}
