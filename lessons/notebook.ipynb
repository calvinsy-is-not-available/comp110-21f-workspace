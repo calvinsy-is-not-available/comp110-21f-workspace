{
 "cells": [
  {
   "cell_type": "markdown",
   "metadata": {},
   "source": []
  },
  {
   "cell_type": "markdown",
   "metadata": {},
   "source": [
    "# Demo Juypter Notebook\n",
    "\n",
    "This notebook will be used to exemplify some of the common uses of python Jupyter Notebooks."
   ]
  },
  {
   "cell_type": "markdown",
   "metadata": {},
   "source": []
  },
  {
   "cell_type": "code",
   "execution_count": 1,
   "metadata": {},
   "outputs": [
    {
     "name": "stdout",
     "output_type": "stream",
     "text": [
      "Calvin\n",
      "Hello Calvin\n"
     ]
    }
   ],
   "source": [
    "name: str = \"Calvin\"\n",
    "print(name)\n",
    "print(f\"Hello {name}\")"
   ]
  },
  {
   "cell_type": "markdown",
   "metadata": {},
   "source": [
    "# Useful Keyboard Shortcuts\n",
    "\n",
    "1. `Control + Enter`: Execute a cell and leave the focus / cursor in that cell\n",
    "2. `Shift + Enter`: Execute a cell and move to the next cell (or create a new cell at the end.)"
   ]
  },
  {
   "cell_type": "code",
   "execution_count": null,
   "metadata": {},
   "outputs": [],
   "source": [
    "print(\"some important computation.....\")\n",
    "total: float = 110.0 + 1000.0\n",
    "total + 20000"
   ]
  },
  {
   "cell_type": "markdown",
   "metadata": {},
   "source": [
    "# Expressions written as the last line in a cell are automatically output\n",
    "\n",
    "Thus you need not print an expression at the end of every cell"
   ]
  },
  {
   "cell_type": "markdown",
   "metadata": {},
   "source": [
    "# Example of Importing A Helper Function"
   ]
  },
  {
   "cell_type": "code",
   "execution_count": null,
   "metadata": {},
   "outputs": [],
   "source": [
    "import notebook_helpers\n",
    "notebook_helpers.add_two_ints(2, 4)"
   ]
  },
  {
   "cell_type": "markdown",
   "metadata": {},
   "source": []
  }
 ],
 "metadata": {
  "interpreter": {
   "hash": "6af0830df5576765fe55e641ad0936112e19a8a9abb54b73ef03d4d7c9ba3ea9"
  },
  "kernelspec": {
   "display_name": "Python 3.10.0 64-bit",
   "name": "python3"
  },
  "language_info": {
   "codemirror_mode": {
    "name": "ipython",
    "version": 3
   },
   "file_extension": ".py",
   "mimetype": "text/x-python",
   "name": "python",
   "nbconvert_exporter": "python",
   "pygments_lexer": "ipython3",
   "version": "3.10.0"
  },
  "orig_nbformat": 4
 },
 "nbformat": 4,
 "nbformat_minor": 2
}
